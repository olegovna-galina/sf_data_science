{
 "cells": [
  {
   "cell_type": "markdown",
   "metadata": {},
   "source": [
    "## PROJECT. Оценка эффективности новой фичи"
   ]
  },
  {
   "cell_type": "markdown",
   "metadata": {},
   "source": [
    "ЗАДАНИЕ\n",
    "\n",
    "- Посчитать показатели Retention Rate седьмого дня и ARPPU за два периода: до и после внедрения фичи (май 2019/июнь 2019).\n",
    "- Сформировать выводы по анализу."
   ]
  },
  {
   "cell_type": "code",
   "execution_count": 1,
   "metadata": {},
   "outputs": [],
   "source": [
    "# импорт библиотек\n",
    "%matplotlib inline\n",
    "import pandas as pd\n",
    "import numpy as np\n",
    "import psycopg2\n",
    "import psycopg2.extras "
   ]
  },
  {
   "cell_type": "markdown",
   "metadata": {},
   "source": [
    "Oпределим количество зарегистрировавшихся пользователей за весь период (до и после релиза). Создадим функцию getRegisteredUsersCount(), в которой выполним SQL-запрос. Подсчитаем количество зарегистрировавшихся пользователей registered_users_count в разрезе registration_date — дней регистрации."
   ]
  },
  {
   "cell_type": "code",
   "execution_count": 2,
   "metadata": {},
   "outputs": [],
   "source": [
    "def getRegisteredUsersCount():\n",
    "    query = '''SELECT r.registration_date, count(distinct(r.user_id)) as registered_users_count\n",
    "    FROM case9.registration r\n",
    "    WHERE r.registration_date >= '2019-05-01' and r.registration_date < '2019-07-01'\n",
    "    GROUP BY 1\n",
    "    '''.format()\n",
    "    conn = psycopg2.connect(\"dbname='skillfactory' user='skillfactory' host='84.201.134.129' password='cCkxxLVrDE8EbvjueeMedPKt' port=5432\")\n",
    "    dict_cur = conn.cursor(cursor_factory=psycopg2.extras.DictCursor)\n",
    "    dict_cur.execute(query)\n",
    "    rows = dict_cur.fetchall()\n",
    "    data = []\n",
    "    for row in rows:\n",
    "        data.append(dict(row))\n",
    "    return data\n",
    "\n",
    "registered_users_count = pd.DataFrame(getRegisteredUsersCount())"
   ]
  },
  {
   "cell_type": "code",
   "execution_count": 3,
   "metadata": {},
   "outputs": [],
   "source": [
    "# преобразуем колонку registration_date в тип datetime:\n",
    "registered_users_count['registration_date'] = pd.to_datetime(registered_users_count['registration_date'])"
   ]
  },
  {
   "cell_type": "markdown",
   "metadata": {},
   "source": [
    "Мы получили количество пользователей, зарегистрировавшихся в мае и июне. Но мы не знаем, сколько из них впоследствии возвращалось в сервис.\n",
    "\n",
    "Для восполнения этого информационного пробела мы можем посчитать количество активных пользователей в разрезе когорт, причём в качестве когорты будет выступать дата регистрации. Таким образом, мы определим количество активных пользователей по дням в разрезе даты регистрации.\n",
    "\n",
    "Сперва получим данные об активных пользователях из базы и подсчитаем по дням количество активных пользователей active_users_count с указанием даты регистрации registration_date."
   ]
  },
  {
   "cell_type": "code",
   "execution_count": 4,
   "metadata": {},
   "outputs": [],
   "source": [
    "def getActiveUsersCountWithCohorts():\n",
    "    query = '''SELECT ac.activity_date, r.registration_date, count(distinct(ac.user_id)) as active_users_count\n",
    "    FROM case9.user_activity ac\n",
    "    LEFT JOIN case9.registration r ON r.user_id = ac.user_id\n",
    "    WHERE r.registration_date >= '2019-05-01' and r.registration_date < '2019-07-01'\n",
    "    GROUP BY 1,2\n",
    "    '''.format()\n",
    "    conn = psycopg2.connect(\"dbname='skillfactory' user='skillfactory' host='84.201.134.129' password='cCkxxLVrDE8EbvjueeMedPKt' port=5432\")\n",
    "    dict_cur = conn.cursor(cursor_factory=psycopg2.extras.DictCursor)\n",
    "    dict_cur.execute(query)\n",
    "    rows = dict_cur.fetchall()\n",
    "    data = []\n",
    "    for row in rows:\n",
    "        data.append(dict(row))\n",
    "    return data\n",
    "\n",
    "active_users_count_with_cohorts = pd.DataFrame(getActiveUsersCountWithCohorts())"
   ]
  },
  {
   "cell_type": "code",
   "execution_count": 5,
   "metadata": {},
   "outputs": [],
   "source": [
    "#  Преобразуем колонки с датами в тип datetime.\n",
    "for col in ['activity_date','registration_date']:\n",
    "    active_users_count_with_cohorts[col] = pd.to_datetime(active_users_count_with_cohorts[col])"
   ]
  },
  {
   "cell_type": "markdown",
   "metadata": {},
   "source": [
    "Теперь у нас есть две таблицы:\n",
    "\n",
    "- Таблица с количеством пользователей, которые изначально были в когортах, — это датафрейм registered_users_count.\n",
    "- Таблица с количеством активных пользователей по дням в каждой когорте — это датафрейм active_users_count_with_cohorts.\n",
    "\n",
    "Чтобы рассчитать процент вернувшихся пользователей на определённый день, нам нужно сначала объединить две таблицы."
   ]
  },
  {
   "cell_type": "code",
   "execution_count": 7,
   "metadata": {},
   "outputs": [],
   "source": [
    "retention_table = active_users_count_with_cohorts.merge(registered_users_count,on=['registration_date'],how='left')"
   ]
  },
  {
   "cell_type": "markdown",
   "metadata": {},
   "source": [
    "В датафрейме retention_table нам нужно определить, какое количество дней прошло с момента регистрации до определённого дня активности. "
   ]
  },
  {
   "cell_type": "code",
   "execution_count": 8,
   "metadata": {},
   "outputs": [
    {
     "data": {
      "text/html": [
       "<div>\n",
       "<style scoped>\n",
       "    .dataframe tbody tr th:only-of-type {\n",
       "        vertical-align: middle;\n",
       "    }\n",
       "\n",
       "    .dataframe tbody tr th {\n",
       "        vertical-align: top;\n",
       "    }\n",
       "\n",
       "    .dataframe thead th {\n",
       "        text-align: right;\n",
       "    }\n",
       "</style>\n",
       "<table border=\"1\" class=\"dataframe\">\n",
       "  <thead>\n",
       "    <tr style=\"text-align: right;\">\n",
       "      <th></th>\n",
       "      <th>activity_date</th>\n",
       "      <th>registration_date</th>\n",
       "      <th>active_users_count</th>\n",
       "      <th>registered_users_count</th>\n",
       "      <th>lifetime</th>\n",
       "    </tr>\n",
       "  </thead>\n",
       "  <tbody>\n",
       "    <tr>\n",
       "      <th>0</th>\n",
       "      <td>2019-05-01</td>\n",
       "      <td>2019-05-01</td>\n",
       "      <td>2590</td>\n",
       "      <td>6516</td>\n",
       "      <td>0</td>\n",
       "    </tr>\n",
       "    <tr>\n",
       "      <th>1</th>\n",
       "      <td>2019-05-02</td>\n",
       "      <td>2019-05-01</td>\n",
       "      <td>2146</td>\n",
       "      <td>6516</td>\n",
       "      <td>1</td>\n",
       "    </tr>\n",
       "    <tr>\n",
       "      <th>2</th>\n",
       "      <td>2019-05-02</td>\n",
       "      <td>2019-05-02</td>\n",
       "      <td>2049</td>\n",
       "      <td>5309</td>\n",
       "      <td>0</td>\n",
       "    </tr>\n",
       "    <tr>\n",
       "      <th>3</th>\n",
       "      <td>2019-05-03</td>\n",
       "      <td>2019-05-01</td>\n",
       "      <td>1637</td>\n",
       "      <td>6516</td>\n",
       "      <td>2</td>\n",
       "    </tr>\n",
       "    <tr>\n",
       "      <th>4</th>\n",
       "      <td>2019-05-03</td>\n",
       "      <td>2019-05-02</td>\n",
       "      <td>1817</td>\n",
       "      <td>5309</td>\n",
       "      <td>1</td>\n",
       "    </tr>\n",
       "  </tbody>\n",
       "</table>\n",
       "</div>"
      ],
      "text/plain": [
       "  activity_date registration_date  active_users_count  registered_users_count  \\\n",
       "0    2019-05-01        2019-05-01                2590                    6516   \n",
       "1    2019-05-02        2019-05-01                2146                    6516   \n",
       "2    2019-05-02        2019-05-02                2049                    5309   \n",
       "3    2019-05-03        2019-05-01                1637                    6516   \n",
       "4    2019-05-03        2019-05-02                1817                    5309   \n",
       "\n",
       "   lifetime  \n",
       "0         0  \n",
       "1         1  \n",
       "2         0  \n",
       "3         2  \n",
       "4         1  "
      ]
     },
     "execution_count": 8,
     "metadata": {},
     "output_type": "execute_result"
    }
   ],
   "source": [
    "retention_table['lifetime'] = retention_table['activity_date'] - retention_table['registration_date']\n",
    "# Нам нужно получить целое количество дней, поэтому значения в колонке с типом timedelta мы разделим на константу np.timedelta64(1,'D'):\n",
    "retention_table['lifetime'] = retention_table['lifetime']/np.timedelta64(1,'D')\n",
    "retention_table['lifetime'] = retention_table['lifetime'].astype(int) # Приведем тип к целому числу\n",
    "retention_table.head()"
   ]
  },
  {
   "cell_type": "markdown",
   "metadata": {},
   "source": [
    "Чтобы посчитать ARPU, нам не хватает информации о выручке по дням, разбитой на когорты (как мы делали с retention_table).\n",
    "\n",
    "Напишем SQL-запрос, который позволит получить выручку по дням в разрезе когорт. Этот запрос обернём в функцию getRevenue(), после чего получим данные по запросу и запишем в датафрейм revenue."
   ]
  },
  {
   "cell_type": "code",
   "execution_count": 9,
   "metadata": {},
   "outputs": [],
   "source": [
    "def getRevenue():\n",
    "    query = '''SELECT re.date, r.registration_date, count(distinct(re.user_id)) as users_count_with_revenue, sum(re.revenue) as revenue\n",
    "    FROM case9.user_revenue re\n",
    "    LEFT JOIN case9.registration r ON r.user_id = re.user_id\n",
    "    WHERE r.registration_date >= '2019-05-01' and r.registration_date < '2019-07-01'\n",
    "    GROUP BY 1,2\n",
    "    '''.format()\n",
    "    conn = psycopg2.connect(\"dbname='skillfactory' user='skillfactory' host='84.201.134.129' password='cCkxxLVrDE8EbvjueeMedPKt' port=5432\")\n",
    "    dict_cur = conn.cursor(cursor_factory=psycopg2.extras.DictCursor)\n",
    "    dict_cur.execute(query)\n",
    "    rows = dict_cur.fetchall()\n",
    "    data = []\n",
    "    for row in rows:\n",
    "        data.append(dict(row))\n",
    "    return data\n",
    "\n",
    "revenue = pd.DataFrame(getRevenue())"
   ]
  },
  {
   "cell_type": "code",
   "execution_count": 10,
   "metadata": {},
   "outputs": [],
   "source": [
    "# так же преобразуем даты в формат времени\n",
    "for col in ['date','registration_date']:\n",
    "    revenue[col] = pd.to_datetime(revenue[col])"
   ]
  },
  {
   "cell_type": "markdown",
   "metadata": {},
   "source": [
    "Следующий шаг — объединение данных из датафрейма revenue с данными из датафрейма retention_table. Но прежде в датафрейме revenue следует изменить название колонки date на activity_date. Делаем это с тем, чтобы в дальнейшем объединять датафреймы по одинаковому названию колонок."
   ]
  },
  {
   "cell_type": "code",
   "execution_count": 11,
   "metadata": {},
   "outputs": [
    {
     "data": {
      "text/html": [
       "<div>\n",
       "<style scoped>\n",
       "    .dataframe tbody tr th:only-of-type {\n",
       "        vertical-align: middle;\n",
       "    }\n",
       "\n",
       "    .dataframe tbody tr th {\n",
       "        vertical-align: top;\n",
       "    }\n",
       "\n",
       "    .dataframe thead th {\n",
       "        text-align: right;\n",
       "    }\n",
       "</style>\n",
       "<table border=\"1\" class=\"dataframe\">\n",
       "  <thead>\n",
       "    <tr style=\"text-align: right;\">\n",
       "      <th></th>\n",
       "      <th>activity_date</th>\n",
       "      <th>registration_date</th>\n",
       "      <th>active_users_count</th>\n",
       "      <th>registered_users_count</th>\n",
       "      <th>lifetime</th>\n",
       "      <th>users_count_with_revenue</th>\n",
       "      <th>revenue</th>\n",
       "    </tr>\n",
       "  </thead>\n",
       "  <tbody>\n",
       "    <tr>\n",
       "      <th>0</th>\n",
       "      <td>2019-05-01</td>\n",
       "      <td>2019-05-01</td>\n",
       "      <td>2590</td>\n",
       "      <td>6516</td>\n",
       "      <td>0</td>\n",
       "      <td>1672</td>\n",
       "      <td>2357.590</td>\n",
       "    </tr>\n",
       "    <tr>\n",
       "      <th>1</th>\n",
       "      <td>2019-05-02</td>\n",
       "      <td>2019-05-01</td>\n",
       "      <td>2146</td>\n",
       "      <td>6516</td>\n",
       "      <td>1</td>\n",
       "      <td>1420</td>\n",
       "      <td>514.679</td>\n",
       "    </tr>\n",
       "    <tr>\n",
       "      <th>2</th>\n",
       "      <td>2019-05-02</td>\n",
       "      <td>2019-05-02</td>\n",
       "      <td>2049</td>\n",
       "      <td>5309</td>\n",
       "      <td>0</td>\n",
       "      <td>1367</td>\n",
       "      <td>1629.140</td>\n",
       "    </tr>\n",
       "    <tr>\n",
       "      <th>3</th>\n",
       "      <td>2019-05-03</td>\n",
       "      <td>2019-05-01</td>\n",
       "      <td>1637</td>\n",
       "      <td>6516</td>\n",
       "      <td>2</td>\n",
       "      <td>1048</td>\n",
       "      <td>390.952</td>\n",
       "    </tr>\n",
       "    <tr>\n",
       "      <th>4</th>\n",
       "      <td>2019-05-03</td>\n",
       "      <td>2019-05-02</td>\n",
       "      <td>1817</td>\n",
       "      <td>5309</td>\n",
       "      <td>1</td>\n",
       "      <td>1164</td>\n",
       "      <td>533.608</td>\n",
       "    </tr>\n",
       "  </tbody>\n",
       "</table>\n",
       "</div>"
      ],
      "text/plain": [
       "  activity_date registration_date  active_users_count  registered_users_count  \\\n",
       "0    2019-05-01        2019-05-01                2590                    6516   \n",
       "1    2019-05-02        2019-05-01                2146                    6516   \n",
       "2    2019-05-02        2019-05-02                2049                    5309   \n",
       "3    2019-05-03        2019-05-01                1637                    6516   \n",
       "4    2019-05-03        2019-05-02                1817                    5309   \n",
       "\n",
       "   lifetime  users_count_with_revenue   revenue  \n",
       "0         0                      1672  2357.590  \n",
       "1         1                      1420   514.679  \n",
       "2         0                      1367  1629.140  \n",
       "3         2                      1048   390.952  \n",
       "4         1                      1164   533.608  "
      ]
     },
     "execution_count": 11,
     "metadata": {},
     "output_type": "execute_result"
    }
   ],
   "source": [
    "revenue = revenue.rename(columns={'date':'activity_date'})\n",
    "retention_table_with_revenue = retention_table.merge(revenue,on=['registration_date','activity_date'],how='left')\n",
    "# Произведём замену пропущенных значений на 0 с помощью функции fillna()\n",
    "for col in ['revenue','users_count_with_revenue']:\n",
    "    retention_table_with_revenue[col] = retention_table_with_revenue[col].fillna(0)\n",
    "# Преобразуем тип в колонке users_count_with_revenue в целочисленный\n",
    "retention_table_with_revenue['users_count_with_revenue'] = retention_table_with_revenue['users_count_with_revenue'].astype(int)\n",
    "\n",
    "retention_table_with_revenue.head()"
   ]
  },
  {
   "cell_type": "markdown",
   "metadata": {},
   "source": [
    "Теперь всё готово для расчёта показателей."
   ]
  },
  {
   "cell_type": "markdown",
   "metadata": {},
   "source": [
    "Рассчитаем Retention Rate седьмого дня для пользователей, привлеченных до релиза (май 2019)."
   ]
  },
  {
   "cell_type": "code",
   "execution_count": 12,
   "metadata": {},
   "outputs": [
    {
     "name": "stdout",
     "output_type": "stream",
     "text": [
      "0.12933000957960866\n"
     ]
    },
    {
     "name": "stderr",
     "output_type": "stream",
     "text": [
      "C:\\Users\\galja\\AppData\\Local\\Temp\\ipykernel_13336\\70511395.py:2: UserWarning: Boolean Series key will be reindexed to match DataFrame index.\n",
      "  retention_7_may_table = retention_table_with_revenue[retention_table_with_revenue['lifetime']==7][retention_table_with_revenue['registration_date']>=\"2019-05-01\"][retention_table_with_revenue['registration_date']<\"2019-06-01\"]\n"
     ]
    }
   ],
   "source": [
    "# Фильтруем таблицу по Retention 7 дня за май\n",
    "retention_7_may_table = retention_table_with_revenue[retention_table_with_revenue['lifetime']==7][retention_table_with_revenue['registration_date']>=\"2019-05-01\"][retention_table_with_revenue['registration_date']<\"2019-06-01\"]\n",
    "# расчет для этих когорт\n",
    "retention_7_may = retention_7_may_table['active_users_count'].sum() / retention_7_may_table['registered_users_count'].sum()\n",
    "print(retention_7_may)"
   ]
  },
  {
   "cell_type": "markdown",
   "metadata": {},
   "source": [
    "Рассчитаем Retention Rate седьмого дня для пользователей, привлеченных после релиза (июнь 2019)."
   ]
  },
  {
   "cell_type": "code",
   "execution_count": 13,
   "metadata": {},
   "outputs": [
    {
     "name": "stdout",
     "output_type": "stream",
     "text": [
      "0.12560867530346634\n"
     ]
    },
    {
     "name": "stderr",
     "output_type": "stream",
     "text": [
      "C:\\Users\\galja\\AppData\\Local\\Temp\\ipykernel_13336\\390074408.py:1: UserWarning: Boolean Series key will be reindexed to match DataFrame index.\n",
      "  retention_7_june_table = retention_table_with_revenue[retention_table_with_revenue['lifetime']==7][retention_table_with_revenue['registration_date']>=\"2019-06-01\"][retention_table_with_revenue['registration_date']<\"2019-07-01\"]\n"
     ]
    }
   ],
   "source": [
    "retention_7_june_table = retention_table_with_revenue[retention_table_with_revenue['lifetime']==7][retention_table_with_revenue['registration_date']>=\"2019-06-01\"][retention_table_with_revenue['registration_date']<\"2019-07-01\"]\n",
    "retention_7_june = retention_7_june_table['active_users_count'].sum() / retention_7_june_table['registered_users_count'].sum()\n",
    "print(retention_7_june)"
   ]
  },
  {
   "cell_type": "markdown",
   "metadata": {},
   "source": [
    "- Retention 7 дня в мае составляет 12,93%.\n",
    "- Retention 7 дня в июне составляет 12,56%."
   ]
  },
  {
   "cell_type": "markdown",
   "metadata": {},
   "source": [
    "Теперь посчитаем показатель ARPPU до и после релиза."
   ]
  },
  {
   "cell_type": "code",
   "execution_count": 15,
   "metadata": {},
   "outputs": [
    {
     "name": "stdout",
     "output_type": "stream",
     "text": [
      "0.3061246038517031\n"
     ]
    }
   ],
   "source": [
    "# до релиза\n",
    "may_arppu = retention_table_with_revenue['revenue'][retention_table_with_revenue['registration_date']>=\"2019-05-01\"][retention_table_with_revenue['registration_date']<\"2019-06-01\"].sum() / retention_table_with_revenue['users_count_with_revenue'][retention_table_with_revenue['registration_date']>=\"2019-05-01\"][retention_table_with_revenue['registration_date']<\"2019-06-01\"].sum()\n",
    "print(may_arppu)"
   ]
  },
  {
   "cell_type": "code",
   "execution_count": 16,
   "metadata": {},
   "outputs": [
    {
     "name": "stdout",
     "output_type": "stream",
     "text": [
      "0.39319397180047666\n"
     ]
    }
   ],
   "source": [
    "# после релиза\n",
    "june_arppu = retention_table_with_revenue['revenue'][retention_table_with_revenue['registration_date']>=\"2019-06-01\"][retention_table_with_revenue['registration_date']<\"2019-07-01\"].sum() / retention_table_with_revenue['users_count_with_revenue'][retention_table_with_revenue['registration_date']>=\"2019-06-01\"][retention_table_with_revenue['registration_date']<\"2019-07-01\"].sum()\n",
    "print(june_arppu)"
   ]
  },
  {
   "cell_type": "markdown",
   "metadata": {},
   "source": [
    "- В мае, до релиза, ARPPU = 0,30 у.е.\n",
    "- В июне, после релиза, ARPPU = 0,39 у.е."
   ]
  },
  {
   "cell_type": "markdown",
   "metadata": {},
   "source": [
    "### Выводы"
   ]
  },
  {
   "cell_type": "markdown",
   "metadata": {},
   "source": [
    "Retention 7 дня за июнь незначительно ниже, чем в период до релиза. \n",
    "\n",
    "Но ARPPU (средний доход с 1 платящего клиента) вырос относительно мая.\n",
    "\n",
    "Возможно, на ARPPU влияют другие факторы. Однако, можно сказать, что новая фича не является неэффективной."
   ]
  }
 ],
 "metadata": {
  "interpreter": {
   "hash": "63d5c79a4be79a1d27b6a78764fc4175f14dae09d0ececb7763d9b794ecdba68"
  },
  "kernelspec": {
   "display_name": "Python 3.10.2 64-bit",
   "language": "python",
   "name": "python3"
  },
  "language_info": {
   "codemirror_mode": {
    "name": "ipython",
    "version": 3
   },
   "file_extension": ".py",
   "mimetype": "text/x-python",
   "name": "python",
   "nbconvert_exporter": "python",
   "pygments_lexer": "ipython3",
   "version": "3.10.2"
  },
  "orig_nbformat": 4
 },
 "nbformat": 4,
 "nbformat_minor": 2
}
