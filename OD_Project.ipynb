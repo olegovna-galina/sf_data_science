{
 "cells": [
  {
   "cell_type": "markdown",
   "metadata": {},
   "source": [
    "### OD-1. Исследование каналов привлечения"
   ]
  },
  {
   "cell_type": "markdown",
   "metadata": {},
   "source": [
    "Задача:\n",
    "1. Оценить количество ботов, которые заходят на наш сайт, и их долю от всего трафика.\n",
    "2. Определить, с каких источников и в какое время суток чаще всего заходят роботы."
   ]
  },
  {
   "cell_type": "code",
   "execution_count": 1,
   "metadata": {},
   "outputs": [],
   "source": [
    "# Импорт библиотек\n",
    "import json \n",
    "import requests\n",
    "import pandas as pd \n",
    "from pprint import pprint"
   ]
  },
  {
   "cell_type": "code",
   "execution_count": 2,
   "metadata": {},
   "outputs": [],
   "source": [
    "# Задаём токен\n",
    "token = 'AQAEA7qhmZa4AAfQkYPU6RXAqERZnf9enrchyyI'\n",
    "headers = {'Authorization': 'OAuth ' + token}"
   ]
  },
  {
   "cell_type": "code",
   "execution_count": 3,
   "metadata": {},
   "outputs": [],
   "source": [
    "# Задаём словарь params с параметрами. Ключ словаря — это наименование параметра запроса, \n",
    "# а значение по ключу — значение этого параметра\n",
    "\n",
    "params = {'metrics': 'ym:s:visits,ym:s:robotPercentage',\n",
    "          'dimensions':'ym:s:lastsignTrafficSource,ym:s:hour,ym:s:isRobot',\n",
    "          'date1': '2020-09-01',\n",
    "          'date2': '2020-09-30',\n",
    "          'ids': 30177909,\n",
    "          'accuracy':'full',\n",
    "          'limit':100000}"
   ]
  },
  {
   "cell_type": "code",
   "execution_count": 4,
   "metadata": {},
   "outputs": [
    {
     "name": "stdout",
     "output_type": "stream",
     "text": [
      "200\n"
     ]
    }
   ],
   "source": [
    "# Делаем запрос response. Тип нашего запроса GET, его можно выполнить с помощью функции requests.get(). \n",
    "# В неё мы передаём следующие параметры:\n",
    "# - URL, по которому будем делать запрос\n",
    "# - В аргументе params передаём заданные параметры запроса. Они хранятся в словаре params \n",
    "# - В аргументе headers передаем заголовки http, которые мы задали в словаре headers.\n",
    "\n",
    "response = requests.get('https://api-metrika.yandex.net/stat/v1/data', params=params, headers=headers)\n",
    "print (response.status_code)"
   ]
  },
  {
   "cell_type": "code",
   "execution_count": 6,
   "metadata": {},
   "outputs": [],
   "source": [
    "# Получить данные ответа можно с помощью функции json(), примененной к запросу response. \n",
    "# Это позволяет сразу же распознать формат json и переделать ответ из этого формата в объект Python.\n",
    "# Запишем данные ответа в переменную metrika_data:\n",
    "\n",
    "metrika_data = response.json()\n",
    "#print(metrika_data.keys())"
   ]
  },
  {
   "cell_type": "markdown",
   "metadata": {},
   "source": [
    "Прежде всего нас интересует значение по ключу data. Именно там содержатся данные статистики посещаемости, полученные от API Яндекс.Метрики."
   ]
  },
  {
   "cell_type": "code",
   "execution_count": 7,
   "metadata": {},
   "outputs": [
    {
     "name": "stdout",
     "output_type": "stream",
     "text": [
      "[{'dimensions': [{'icon_id': '2',\n",
      "                  'icon_type': 'traffic-source',\n",
      "                  'id': 'organic',\n",
      "                  'name': 'Search engine traffic'},\n",
      "                 {'id': '16', 'name': '16:00'},\n",
      "                 {'id': 'no', 'name': 'People'}],\n",
      "  'metrics': [189.0, 0.0]},\n",
      " {'dimensions': [{'icon_id': '2',\n",
      "                  'icon_type': 'traffic-source',\n",
      "                  'id': 'organic',\n",
      "                  'name': 'Search engine traffic'},\n",
      "                 {'id': '15', 'name': '15:00'},\n",
      "                 {'id': 'no', 'name': 'People'}],\n",
      "  'metrics': [177.0, 0.0]},\n",
      " {'dimensions': [{'icon_id': '2',\n",
      "                  'icon_type': 'traffic-source',\n",
      "                  'id': 'organic',\n",
      "                  'name': 'Search engine traffic'},\n",
      "                 {'id': '11', 'name': '11:00'},\n",
      "                 {'id': 'no', 'name': 'People'}],\n",
      "  'metrics': [169.0, 0.0]}]\n"
     ]
    }
   ],
   "source": [
    "# срез данных\n",
    "pprint(metrika_data['data'][0:3])"
   ]
  },
  {
   "cell_type": "markdown",
   "metadata": {},
   "source": [
    "Создаём датафрейм metrika_df из данных статистики metrika_data['data']:"
   ]
  },
  {
   "cell_type": "code",
   "execution_count": 8,
   "metadata": {},
   "outputs": [
    {
     "data": {
      "text/html": [
       "<div>\n",
       "<style scoped>\n",
       "    .dataframe tbody tr th:only-of-type {\n",
       "        vertical-align: middle;\n",
       "    }\n",
       "\n",
       "    .dataframe tbody tr th {\n",
       "        vertical-align: top;\n",
       "    }\n",
       "\n",
       "    .dataframe thead th {\n",
       "        text-align: right;\n",
       "    }\n",
       "</style>\n",
       "<table border=\"1\" class=\"dataframe\">\n",
       "  <thead>\n",
       "    <tr style=\"text-align: right;\">\n",
       "      <th></th>\n",
       "      <th>dimensions</th>\n",
       "      <th>metrics</th>\n",
       "    </tr>\n",
       "  </thead>\n",
       "  <tbody>\n",
       "    <tr>\n",
       "      <th>0</th>\n",
       "      <td>[{'icon_id': '2', 'icon_type': 'traffic-source...</td>\n",
       "      <td>[189.0, 0.0]</td>\n",
       "    </tr>\n",
       "    <tr>\n",
       "      <th>1</th>\n",
       "      <td>[{'icon_id': '2', 'icon_type': 'traffic-source...</td>\n",
       "      <td>[177.0, 0.0]</td>\n",
       "    </tr>\n",
       "    <tr>\n",
       "      <th>2</th>\n",
       "      <td>[{'icon_id': '2', 'icon_type': 'traffic-source...</td>\n",
       "      <td>[169.0, 0.0]</td>\n",
       "    </tr>\n",
       "    <tr>\n",
       "      <th>3</th>\n",
       "      <td>[{'icon_id': '2', 'icon_type': 'traffic-source...</td>\n",
       "      <td>[169.0, 0.0]</td>\n",
       "    </tr>\n",
       "    <tr>\n",
       "      <th>4</th>\n",
       "      <td>[{'icon_id': '2', 'icon_type': 'traffic-source...</td>\n",
       "      <td>[167.0, 0.0]</td>\n",
       "    </tr>\n",
       "  </tbody>\n",
       "</table>\n",
       "</div>"
      ],
      "text/plain": [
       "                                          dimensions       metrics\n",
       "0  [{'icon_id': '2', 'icon_type': 'traffic-source...  [189.0, 0.0]\n",
       "1  [{'icon_id': '2', 'icon_type': 'traffic-source...  [177.0, 0.0]\n",
       "2  [{'icon_id': '2', 'icon_type': 'traffic-source...  [169.0, 0.0]\n",
       "3  [{'icon_id': '2', 'icon_type': 'traffic-source...  [169.0, 0.0]\n",
       "4  [{'icon_id': '2', 'icon_type': 'traffic-source...  [167.0, 0.0]"
      ]
     },
     "execution_count": 8,
     "metadata": {},
     "output_type": "execute_result"
    }
   ],
   "source": [
    "metrika_df = pd.DataFrame(metrika_data['data'])\n",
    "metrika_df.head()"
   ]
  },
  {
   "cell_type": "markdown",
   "metadata": {},
   "source": [
    "Создадим функцию, чтобы избавиться от вложенных словарей:"
   ]
  },
  {
   "cell_type": "code",
   "execution_count": 10,
   "metadata": {},
   "outputs": [
    {
     "name": "stdout",
     "output_type": "stream",
     "text": [
      "[{'ym:s:hour': '16:00',\n",
      "  'ym:s:isRobot': 'People',\n",
      "  'ym:s:lastsignTrafficSource': 'Search engine traffic',\n",
      "  'ym:s:robotPercentage': 0.0,\n",
      "  'ym:s:visits': 189.0},\n",
      " {'ym:s:hour': '15:00',\n",
      "  'ym:s:isRobot': 'People',\n",
      "  'ym:s:lastsignTrafficSource': 'Search engine traffic',\n",
      "  'ym:s:robotPercentage': 0.0,\n",
      "  'ym:s:visits': 177.0},\n",
      " {'ym:s:hour': '11:00',\n",
      "  'ym:s:isRobot': 'People',\n",
      "  'ym:s:lastsignTrafficSource': 'Search engine traffic',\n",
      "  'ym:s:robotPercentage': 0.0,\n",
      "  'ym:s:visits': 169.0}]\n"
     ]
    }
   ],
   "source": [
    "def getMetrikaDataInListOfDicts(metrika_data):\n",
    "    list_of_dicts = []\n",
    "    dimensions_list = metrika_data['query']['dimensions']\n",
    "    metrics_list = metrika_data['query']['metrics']\n",
    "    for data_item in metrika_data['data']:\n",
    "        d = {}\n",
    "        for i,dimension in enumerate(data_item['dimensions']):\n",
    "            d[dimensions_list[i]] = dimension['name']\n",
    "        for i,metric in enumerate(data_item['metrics']):\n",
    "            d[metrics_list[i]] = metric\n",
    "        list_of_dicts.append(d)\n",
    "    return list_of_dicts\n",
    "\n",
    "metrika_list_of_dicts = getMetrikaDataInListOfDicts(metrika_data)\n",
    "pprint(metrika_list_of_dicts[0:3])"
   ]
  },
  {
   "cell_type": "markdown",
   "metadata": {},
   "source": [
    "Создаём датафрейм из полученных данных:"
   ]
  },
  {
   "cell_type": "code",
   "execution_count": 11,
   "metadata": {},
   "outputs": [
    {
     "data": {
      "text/html": [
       "<div>\n",
       "<style scoped>\n",
       "    .dataframe tbody tr th:only-of-type {\n",
       "        vertical-align: middle;\n",
       "    }\n",
       "\n",
       "    .dataframe tbody tr th {\n",
       "        vertical-align: top;\n",
       "    }\n",
       "\n",
       "    .dataframe thead th {\n",
       "        text-align: right;\n",
       "    }\n",
       "</style>\n",
       "<table border=\"1\" class=\"dataframe\">\n",
       "  <thead>\n",
       "    <tr style=\"text-align: right;\">\n",
       "      <th></th>\n",
       "      <th>ym:s:lastsignTrafficSource</th>\n",
       "      <th>ym:s:hour</th>\n",
       "      <th>ym:s:isRobot</th>\n",
       "      <th>ym:s:visits</th>\n",
       "      <th>ym:s:robotPercentage</th>\n",
       "    </tr>\n",
       "  </thead>\n",
       "  <tbody>\n",
       "    <tr>\n",
       "      <th>0</th>\n",
       "      <td>Search engine traffic</td>\n",
       "      <td>16:00</td>\n",
       "      <td>People</td>\n",
       "      <td>189.0</td>\n",
       "      <td>0.0</td>\n",
       "    </tr>\n",
       "    <tr>\n",
       "      <th>1</th>\n",
       "      <td>Search engine traffic</td>\n",
       "      <td>15:00</td>\n",
       "      <td>People</td>\n",
       "      <td>177.0</td>\n",
       "      <td>0.0</td>\n",
       "    </tr>\n",
       "    <tr>\n",
       "      <th>2</th>\n",
       "      <td>Search engine traffic</td>\n",
       "      <td>11:00</td>\n",
       "      <td>People</td>\n",
       "      <td>169.0</td>\n",
       "      <td>0.0</td>\n",
       "    </tr>\n",
       "    <tr>\n",
       "      <th>3</th>\n",
       "      <td>Search engine traffic</td>\n",
       "      <td>12:00</td>\n",
       "      <td>People</td>\n",
       "      <td>169.0</td>\n",
       "      <td>0.0</td>\n",
       "    </tr>\n",
       "    <tr>\n",
       "      <th>4</th>\n",
       "      <td>Search engine traffic</td>\n",
       "      <td>14:00</td>\n",
       "      <td>People</td>\n",
       "      <td>167.0</td>\n",
       "      <td>0.0</td>\n",
       "    </tr>\n",
       "  </tbody>\n",
       "</table>\n",
       "</div>"
      ],
      "text/plain": [
       "  ym:s:lastsignTrafficSource ym:s:hour ym:s:isRobot  ym:s:visits  \\\n",
       "0      Search engine traffic     16:00       People        189.0   \n",
       "1      Search engine traffic     15:00       People        177.0   \n",
       "2      Search engine traffic     11:00       People        169.0   \n",
       "3      Search engine traffic     12:00       People        169.0   \n",
       "4      Search engine traffic     14:00       People        167.0   \n",
       "\n",
       "   ym:s:robotPercentage  \n",
       "0                   0.0  \n",
       "1                   0.0  \n",
       "2                   0.0  \n",
       "3                   0.0  \n",
       "4                   0.0  "
      ]
     },
     "execution_count": 11,
     "metadata": {},
     "output_type": "execute_result"
    }
   ],
   "source": [
    "metrika_df = pd.DataFrame(metrika_list_of_dicts)\n",
    "metrika_df.head()"
   ]
  },
  {
   "cell_type": "code",
   "execution_count": 13,
   "metadata": {},
   "outputs": [
    {
     "data": {
      "text/html": [
       "<div>\n",
       "<style scoped>\n",
       "    .dataframe tbody tr th:only-of-type {\n",
       "        vertical-align: middle;\n",
       "    }\n",
       "\n",
       "    .dataframe tbody tr th {\n",
       "        vertical-align: top;\n",
       "    }\n",
       "\n",
       "    .dataframe thead th {\n",
       "        text-align: right;\n",
       "    }\n",
       "</style>\n",
       "<table border=\"1\" class=\"dataframe\">\n",
       "  <thead>\n",
       "    <tr style=\"text-align: right;\">\n",
       "      <th></th>\n",
       "      <th>Source</th>\n",
       "      <th>Hour</th>\n",
       "      <th>IsRobot</th>\n",
       "      <th>Visits</th>\n",
       "      <th>RobotPercentage</th>\n",
       "    </tr>\n",
       "  </thead>\n",
       "  <tbody>\n",
       "    <tr>\n",
       "      <th>0</th>\n",
       "      <td>Search engine traffic</td>\n",
       "      <td>16:00</td>\n",
       "      <td>People</td>\n",
       "      <td>189.0</td>\n",
       "      <td>0.0</td>\n",
       "    </tr>\n",
       "    <tr>\n",
       "      <th>1</th>\n",
       "      <td>Search engine traffic</td>\n",
       "      <td>15:00</td>\n",
       "      <td>People</td>\n",
       "      <td>177.0</td>\n",
       "      <td>0.0</td>\n",
       "    </tr>\n",
       "    <tr>\n",
       "      <th>2</th>\n",
       "      <td>Search engine traffic</td>\n",
       "      <td>11:00</td>\n",
       "      <td>People</td>\n",
       "      <td>169.0</td>\n",
       "      <td>0.0</td>\n",
       "    </tr>\n",
       "    <tr>\n",
       "      <th>3</th>\n",
       "      <td>Search engine traffic</td>\n",
       "      <td>12:00</td>\n",
       "      <td>People</td>\n",
       "      <td>169.0</td>\n",
       "      <td>0.0</td>\n",
       "    </tr>\n",
       "    <tr>\n",
       "      <th>4</th>\n",
       "      <td>Search engine traffic</td>\n",
       "      <td>14:00</td>\n",
       "      <td>People</td>\n",
       "      <td>167.0</td>\n",
       "      <td>0.0</td>\n",
       "    </tr>\n",
       "  </tbody>\n",
       "</table>\n",
       "</div>"
      ],
      "text/plain": [
       "                  Source   Hour IsRobot  Visits  RobotPercentage\n",
       "0  Search engine traffic  16:00  People   189.0              0.0\n",
       "1  Search engine traffic  15:00  People   177.0              0.0\n",
       "2  Search engine traffic  11:00  People   169.0              0.0\n",
       "3  Search engine traffic  12:00  People   169.0              0.0\n",
       "4  Search engine traffic  14:00  People   167.0              0.0"
      ]
     },
     "execution_count": 13,
     "metadata": {},
     "output_type": "execute_result"
    }
   ],
   "source": [
    "# переименуем колонки\n",
    "\n",
    "metrika_df.columns=['Source','Hour','IsRobot','Visits','RobotPercentage']\n",
    "metrika_df.head()"
   ]
  },
  {
   "cell_type": "markdown",
   "metadata": {},
   "source": [
    "Оценим количество ботов, которые заходят на наш сайт, и их долю от всего трафика."
   ]
  },
  {
   "cell_type": "code",
   "execution_count": 18,
   "metadata": {},
   "outputs": [
    {
     "data": {
      "text/html": [
       "<div>\n",
       "<style scoped>\n",
       "    .dataframe tbody tr th:only-of-type {\n",
       "        vertical-align: middle;\n",
       "    }\n",
       "\n",
       "    .dataframe tbody tr th {\n",
       "        vertical-align: top;\n",
       "    }\n",
       "\n",
       "    .dataframe thead th {\n",
       "        text-align: right;\n",
       "    }\n",
       "</style>\n",
       "<table border=\"1\" class=\"dataframe\">\n",
       "  <thead>\n",
       "    <tr style=\"text-align: right;\">\n",
       "      <th>IsRobot</th>\n",
       "      <th>People</th>\n",
       "      <th>Robots</th>\n",
       "      <th>robot_visits_%</th>\n",
       "    </tr>\n",
       "  </thead>\n",
       "  <tbody>\n",
       "    <tr>\n",
       "      <th>Visits</th>\n",
       "      <td>3353.0</td>\n",
       "      <td>962.0</td>\n",
       "      <td>22.29</td>\n",
       "    </tr>\n",
       "  </tbody>\n",
       "</table>\n",
       "</div>"
      ],
      "text/plain": [
       "IsRobot  People  Robots  robot_visits_%\n",
       "Visits   3353.0   962.0           22.29"
      ]
     },
     "execution_count": 18,
     "metadata": {},
     "output_type": "execute_result"
    }
   ],
   "source": [
    "# сводная таблица по визитам людей и роботов (столбец IsRobot)\n",
    "pt_robot_visits = metrika_df.pivot_table(values = ['Visits'], columns = ['IsRobot'], aggfunc = 'sum')\n",
    "# процент ботов от общего трафика\n",
    "pt_robot_visits['robot_visits_%'] = round(pt_robot_visits['Robots'] * 100 / (pt_robot_visits['Robots'] + pt_robot_visits['People']), 2)\n",
    "pt_robot_visits.head()"
   ]
  },
  {
   "cell_type": "markdown",
   "metadata": {},
   "source": [
    "ВЫВОД: 22.29 % от всего трафика составляет количество ботов."
   ]
  },
  {
   "cell_type": "markdown",
   "metadata": {},
   "source": [
    "Определим, с каких источников чаще всего заходят роботы:"
   ]
  },
  {
   "cell_type": "code",
   "execution_count": 20,
   "metadata": {},
   "outputs": [
    {
     "data": {
      "text/html": [
       "<div>\n",
       "<style scoped>\n",
       "    .dataframe tbody tr th:only-of-type {\n",
       "        vertical-align: middle;\n",
       "    }\n",
       "\n",
       "    .dataframe tbody tr th {\n",
       "        vertical-align: top;\n",
       "    }\n",
       "\n",
       "    .dataframe thead th {\n",
       "        text-align: right;\n",
       "    }\n",
       "</style>\n",
       "<table border=\"1\" class=\"dataframe\">\n",
       "  <thead>\n",
       "    <tr style=\"text-align: right;\">\n",
       "      <th>Source</th>\n",
       "      <th>Cached page traffic</th>\n",
       "      <th>Direct traffic</th>\n",
       "      <th>Internal traffic</th>\n",
       "      <th>Link traffic</th>\n",
       "      <th>Search engine traffic</th>\n",
       "      <th>Social network traffic</th>\n",
       "    </tr>\n",
       "  </thead>\n",
       "  <tbody>\n",
       "    <tr>\n",
       "      <th>Visits</th>\n",
       "      <td>1.0</td>\n",
       "      <td>177.0</td>\n",
       "      <td>3.0</td>\n",
       "      <td>31.0</td>\n",
       "      <td>739.0</td>\n",
       "      <td>11.0</td>\n",
       "    </tr>\n",
       "  </tbody>\n",
       "</table>\n",
       "</div>"
      ],
      "text/plain": [
       "Source  Cached page traffic  Direct traffic  Internal traffic  Link traffic  \\\n",
       "Visits                  1.0           177.0               3.0          31.0   \n",
       "\n",
       "Source  Search engine traffic  Social network traffic  \n",
       "Visits                  739.0                    11.0  "
      ]
     },
     "execution_count": 20,
     "metadata": {},
     "output_type": "execute_result"
    }
   ],
   "source": [
    "# сводная таблица по визитам для источников трафика\n",
    "mask = metrika_df['IsRobot'] == 'Robots'\n",
    "pt_source_visits = metrika_df[mask].pivot_table(values = ['Visits'], columns = ['Source'], aggfunc = 'sum')\n",
    "pt_source_visits.head()"
   ]
  },
  {
   "cell_type": "markdown",
   "metadata": {},
   "source": [
    "Промежуточный вывод: роботы чаще всего заходят с источника \"Search engine traffic\"."
   ]
  },
  {
   "cell_type": "markdown",
   "metadata": {},
   "source": [
    "Определим, в какое время суток чаще всего заходят роботы."
   ]
  },
  {
   "cell_type": "code",
   "execution_count": 33,
   "metadata": {},
   "outputs": [
    {
     "name": "stdout",
     "output_type": "stream",
     "text": [
      "Hour\n",
      "13:00    64.0\n",
      "15:00    63.0\n",
      "16:00    62.0\n",
      "11:00    59.0\n",
      "14:00    58.0\n",
      "12:00    56.0\n",
      "17:00    55.0\n",
      "19:00    38.0\n",
      "09:00    36.0\n",
      "10:00    36.0\n",
      "18:00    31.0\n",
      "22:00    30.0\n",
      "21:00    29.0\n",
      "08:00    29.0\n",
      "20:00    26.0\n",
      "23:00    21.0\n",
      "00:00    17.0\n",
      "01:00     8.0\n",
      "07:00     6.0\n",
      "02:00     5.0\n",
      "06:00     3.0\n",
      "04:00     3.0\n",
      "03:00     3.0\n",
      "05:00     1.0\n",
      "Name: Visits, dtype: float64\n"
     ]
    }
   ],
   "source": [
    "mask_source = metrika_df['Source'] == 'Search engine traffic'\n",
    "pt_hour_visits = metrika_df[mask_source & mask].pivot_table(values = ['Visits'], index = ['Hour'], aggfunc = 'sum')\n",
    "print(pt_hour_visits['Visits'].sort_values(ascending=False))"
   ]
  },
  {
   "cell_type": "markdown",
   "metadata": {},
   "source": [
    "ВЫВОД: роботы чаще всего заходят с источника \"Search engine traffic\" в 13:00. Промежуток времени, в котором они чаще всего заходят отватывает с 11:00 по 17:00."
   ]
  }
 ],
 "metadata": {
  "interpreter": {
   "hash": "63d5c79a4be79a1d27b6a78764fc4175f14dae09d0ececb7763d9b794ecdba68"
  },
  "kernelspec": {
   "display_name": "Python 3.10.2 64-bit",
   "language": "python",
   "name": "python3"
  },
  "language_info": {
   "codemirror_mode": {
    "name": "ipython",
    "version": 3
   },
   "file_extension": ".py",
   "mimetype": "text/x-python",
   "name": "python",
   "nbconvert_exporter": "python",
   "pygments_lexer": "ipython3",
   "version": "3.10.2"
  },
  "orig_nbformat": 4
 },
 "nbformat": 4,
 "nbformat_minor": 2
}
