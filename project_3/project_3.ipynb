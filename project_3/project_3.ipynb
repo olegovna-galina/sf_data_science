{
 "cells": [
  {
   "cell_type": "markdown",
   "metadata": {},
   "source": [
    "## Анализ поведения пользователей в обновлённом приложении Quiz Freez"
   ]
  },
  {
   "cell_type": "markdown",
   "metadata": {},
   "source": [
    "ЗАДАЧИ\n",
    "\n",
    "- Определить, насколько обучение сокращает время прохождения этапов игры.\n",
    "- Доказать, что успешное обучение само по себе влияет на оплату и не имеет значения то, каким этапом оно шло.\n",
    "- Определить, насколько прозрачен процесс взаимодействия с игрой."
   ]
  },
  {
   "cell_type": "markdown",
   "metadata": {},
   "source": [
    "Выполнять анализ необходимо на основе данных пользователей, которые зарегистрировались в 2018 году (с 1 января по 31 декабря 2018 года включительно):"
   ]
  },
  {
   "cell_type": "code",
   "execution_count": 1,
   "metadata": {},
   "outputs": [],
   "source": [
    "import pandas as pd\n",
    "\n",
    "# чтение данныx\n",
    "events_data = pd.read_csv('Events.csv', sep=',')\n",
    "purchases_data = pd.read_csv('purchase.csv', sep=',')\n",
    "\n",
    "events_df = events_data.copy()\n",
    "purchase_df = purchases_data.copy()\n",
    "\n",
    "# Оставляем в таблицах только те данные пользователей, которые были зарегистрированы в 2018 году:\n",
    "\n",
    "mask_date = (events_df['start_time'] >= '2018-01-01') & (events_df['start_time'] < '2019-01-01') & (events_df['event_type'] == 'registration')\n",
    "ids = events_df[mask_date]['user_id']\n",
    "\n",
    "mask_user_event = events_df['user_id'].isin(ids)\n",
    "events_df = events_df[mask_user_event]\n",
    "events_df.start_time = pd.to_datetime(events_df.start_time, format='%Y-%m-%dT%H:%M:%S')\n",
    "\n",
    "mask_user_purchase = purchase_df['user_id'].isin(ids)\n",
    "purchase_df = purchase_df[mask_user_purchase]\n",
    "purchase_df['event_datetime']=pd.to_datetime(purchase_df['event_datetime'])"
   ]
  },
  {
   "cell_type": "markdown",
   "metadata": {},
   "source": [
    "Для анализа всех этапов игры, объединим таблицы Event и Purchase в DF total_events_df:"
   ]
  },
  {
   "cell_type": "code",
   "execution_count": 2,
   "metadata": {},
   "outputs": [],
   "source": [
    "# Добавим в датафрейм purchase_df столбец event_type, который будет содержать одно значение purchase. \n",
    "# Это нужно, чтобы в объединённом датафрейме однозначно выделить события оплаты.\n",
    "purchase_df['event_type'] = 'purchase'\n",
    "\n",
    "# Также у нас есть одинаковые столбцы id в двух датафреймах, но смысл их несколько отличается, \n",
    "# так как столбец id в events_df указывает на идентификатор события, \n",
    "# а столбец id в purchase_df указывает на идентификатор оплаты. \n",
    "# Поэтому применим функцию rename(), чтобы переименовать столбцы в датафреймах.\n",
    "events_df = events_df.rename(columns={\"id\": \"event_id\"})\n",
    "purchase_df = purchase_df.rename(columns={\"id\": \"purchase_id\"})\n",
    "\n",
    "# объединим датафреймы events_df и purchase_df с помощью функции pd.concat() и запишем объединённый датафрейм в total_events_df.\n",
    "total_events_df = pd.concat([events_df,purchase_df],sort=False)\n",
    "\n",
    "# Теперь сбросим индексы объединённого датафрейма (так как после объединения они дублировались и несут мало смысла) \n",
    "# с помощью метода reset_index() и отсортируем все события по возрастанию времени с помощью sort_values().\n",
    "total_events_df = total_events_df.reset_index(drop=True).sort_values('start_time')"
   ]
  },
  {
   "cell_type": "markdown",
   "metadata": {},
   "source": [
    "Создадим новый столбец tutorial_user_YN (yes/no), который разделяет пользователей на группы:\n",
    "- Пользователи, не начинавшие обучение (значение False)\n",
    "- Пользователи, которые завершили обучение (значение True)\n",
    "- Пользователи, которые начинали обучение, но не завершили его (значение None). Таких пользователей мы не будем включать в анализ."
   ]
  },
  {
   "cell_type": "code",
   "execution_count": 3,
   "metadata": {},
   "outputs": [
    {
     "name": "stdout",
     "output_type": "stream",
     "text": [
      "Количество всех уникальных пользователей: 19926\n",
      "Количество пользователей, завершивших обучение: 10250\n",
      "Количество пользователей, не начинавших обучение: 8068\n",
      "Количество пользователей, начинавших обучение, но не завершивших его: 1608\n"
     ]
    }
   ],
   "source": [
    "# Новый столбец. По умолчанию зададим False\n",
    "total_events_df['tutorial_user_YN'] = 'False'\n",
    "# Пользователи, которые завершили обучение\n",
    "tutorial_users_finish = total_events_df[total_events_df['event_type'] == 'tutorial_finish']['user_id'].to_list()\n",
    "# Пользователи, которые начинали обучение\n",
    "tutorial_users_start = total_events_df[total_events_df['event_type'] == 'tutorial_start']['user_id'].to_list()\n",
    "\n",
    "# Цикл по строкам в таблице. Для всех пользователей, которые завершили обучение, присваиваем значение нового столба True.\n",
    "for index, row in total_events_df.iterrows(): \n",
    "    if row['user_id'] in tutorial_users_finish:\n",
    "        total_events_df.loc[index, 'tutorial_user_YN'] = 'True'\n",
    "\n",
    "# Цикл по строкам в таблице. Для всех пользователей, которые начинали обучение, \n",
    "# но не завершили его, присваиваем значение нового столба None.\n",
    "for index, row in total_events_df.iterrows():\n",
    "    if (row['user_id'] in tutorial_users_start) & (row['user_id'] not in tutorial_users_finish):\n",
    "        total_events_df.loc[index, 'tutorial_user_YN'] = 'None'\n",
    "\n",
    "# Самопроверка:\n",
    "print(\"Количество всех уникальных пользователей: {}\".format(\n",
    "    total_events_df[\"user_id\"].nunique()))\n",
    "print(\"Количество пользователей, завершивших обучение: {}\".format(\n",
    "    total_events_df[total_events_df['tutorial_user_YN'] == 'True'][\"user_id\"].nunique()))\n",
    "print(\"Количество пользователей, не начинавших обучение: {}\".format(\n",
    "    total_events_df[total_events_df['tutorial_user_YN'] == 'False'][\"user_id\"].nunique()))\n",
    "print(\"Количество пользователей, начинавших обучение, но не завершивших его: {}\".format(\n",
    "    total_events_df[total_events_df['tutorial_user_YN'] == 'None'][\"user_id\"].nunique()))"
   ]
  },
  {
   "cell_type": "markdown",
   "metadata": {},
   "source": [
    "1. Определяем, насколько обучение сокращает время прохождения этапов игры. Для этого:\n",
    " - сравним время прохождения различных этапов для пользователей, которые завершили обучение, и пользователей, не начинавших обучение. \n",
    " - если показатель отличается, выясним, насколько."
   ]
  },
  {
   "cell_type": "code",
   "execution_count": 4,
   "metadata": {},
   "outputs": [
    {
     "name": "stdout",
     "output_type": "stream",
     "text": [
      " *** Анализ для пользователей, которые завершили обучение ***\n",
      "\n",
      "Среднее время между выбором уровня сложности и выбором пакета вопросов: 0 days 00:05:25.313061506\n",
      "Среднее время между выбором пакета вопросов и оплатой:                  3 days 17:17:59.641326883\n",
      "Среднее время между регистрацией и оплатой (весь путь):                 4 days 00:30:03.247408431\n",
      "\n",
      " *** Анализ для пользователей, не начинавших обучение ***\n",
      "\n",
      "Среднее время между выбором уровня сложности и выбором пакета вопросов: 0 days 00:05:22.681818181\n",
      "Среднее время между выбором пакета вопросов и оплатой:                  4 days 04:49:33.590909090\n",
      "Среднее время между регистрацией и оплатой (весь путь):                 4 days 09:06:01.909090909\n"
     ]
    }
   ],
   "source": [
    "# разница (timedelta_level_pack) между level_choice (выбор уровня сложности) и pack_choice (выбор пакета вопросов)\n",
    "\n",
    "level_choice_df = total_events_df[total_events_df['event_type'] == 'level_choice']\n",
    "level_choice_df = level_choice_df[[\"user_id\", \"start_time\", \"tutorial_user_YN\"]].rename(columns={\"start_time\": \"level_choice_time\"})\n",
    "\n",
    "pack_choice_df = total_events_df[total_events_df['event_type'] == 'pack_choice']\n",
    "pack_choice_df = pack_choice_df[[\"user_id\", \"start_time\", \"tutorial_user_YN\"]].rename(columns={\"start_time\": \"pack_choice_time\"})\n",
    "\n",
    "merged_level_pack = level_choice_df.merge(pack_choice_df, on=[\"user_id\", \"tutorial_user_YN\"], how=\"inner\")\n",
    "merged_level_pack[\"timedelta_level_pack\"] = (merged_level_pack[\"pack_choice_time\"] - merged_level_pack[\"level_choice_time\"])\n",
    "\n",
    "# разница (timedelta_pack_purchase) между pack_choice (выбор пакета вопросов) и purchase (оплата)\n",
    "\n",
    "purchase_df = total_events_df[total_events_df[\"event_type\"] == \"purchase\"]\n",
    "purchase_df = purchase_df[[\"user_id\", \"event_datetime\", \"tutorial_user_YN\"]].rename(columns={\"event_datetime\": \"purchase_time\"})\n",
    "\n",
    "merged_level_pack_purchase = merged_level_pack.merge(purchase_df, on=[\"user_id\", \"tutorial_user_YN\"], how=\"inner\")\n",
    "merged_level_pack_purchase['timedelta_pack_purchase'] = (\n",
    "    merged_level_pack_purchase[\"purchase_time\"] - merged_level_pack_purchase[\"pack_choice_time\"])\n",
    "\n",
    "# разница между registration и purchase (оплата) - весь путь\n",
    "\n",
    "registration_df = total_events_df[total_events_df['event_type'] == 'registration']\n",
    "registration_df = registration_df[[\"user_id\", \"start_time\", \"tutorial_user_YN\"]].rename(columns={\"start_time\": \"registration_time\"})\n",
    "\n",
    "merged_level_pack_purchase_reg = merged_level_pack_purchase.merge(registration_df, on=[\"user_id\", \"tutorial_user_YN\"], how=\"inner\")\n",
    "merged_level_pack_purchase_reg['timedelta_reg_purchase'] = (\n",
    "    merged_level_pack_purchase_reg[\"purchase_time\"] - merged_level_pack_purchase_reg[\"registration_time\"])\n",
    "\n",
    "\n",
    "#print('\\nСрез таблицы:')\n",
    "#merged_level_pack_purchase_reg.head()\n",
    "\n",
    "print(' *** Анализ для пользователей, которые завершили обучение ***')\n",
    "mask_tutorial = merged_level_pack_purchase_reg['tutorial_user_YN'] == 'True'\n",
    "\n",
    "print('\\nСреднее время между выбором уровня сложности и выбором пакета вопросов:', \n",
    "      merged_level_pack_purchase_reg[mask_tutorial][\"timedelta_level_pack\"].mean())\n",
    "print('Среднее время между выбором пакета вопросов и оплатой:                 ', \n",
    "      merged_level_pack_purchase_reg[mask_tutorial]['timedelta_pack_purchase'].mean())\n",
    "print('Среднее время между регистрацией и оплатой (весь путь):                ', \n",
    "      merged_level_pack_purchase_reg[mask_tutorial]['timedelta_reg_purchase'].mean())\n",
    "\n",
    "print('\\n *** Анализ для пользователей, не начинавших обучение ***')\n",
    "mask_not_tutorial = merged_level_pack_purchase_reg['tutorial_user_YN'] == 'False'\n",
    "\n",
    "print('\\nСреднее время между выбором уровня сложности и выбором пакета вопросов:', \n",
    "      merged_level_pack_purchase_reg[mask_not_tutorial][\"timedelta_level_pack\"].mean())\n",
    "print('Среднее время между выбором пакета вопросов и оплатой:                 ', \n",
    "      merged_level_pack_purchase_reg[mask_not_tutorial]['timedelta_pack_purchase'].mean())\n",
    "print('Среднее время между регистрацией и оплатой (весь путь):                ', \n",
    "      merged_level_pack_purchase_reg[mask_not_tutorial]['timedelta_reg_purchase'].mean())"
   ]
  },
  {
   "cell_type": "markdown",
   "metadata": {},
   "source": [
    "В рамках первой гипотезы построим столбчатую диаграмму, отражающую время прохождения различных этапов для пользователей, которые прошли обучение, и для пользователей, не начинавших обучение."
   ]
  },
  {
   "cell_type": "code",
   "execution_count": 5,
   "metadata": {},
   "outputs": [
    {
     "data": {
      "image/png": "[encoded data removed]",
      "text/plain": [
       "<Figure size 720x576 with 3 Axes>"
      ]
     },
     "metadata": {
      "needs_background": "light"
     },
     "output_type": "display_data"
    }
   ],
   "source": [
    "# Для построения визуализаций используем библиотеки Matplotlib или Seaborn\n",
    "import matplotlib.pyplot as plt\n",
    "%matplotlib inline\n",
    "import seaborn as sns\n",
    "pd.options.mode.chained_assignment = None  \n",
    "# уберем пользователей, которые начинали обучение, но не завершили его\n",
    "merged_level_pack_purchase_reg = merged_level_pack_purchase_reg[merged_level_pack_purchase_reg['tutorial_user_YN'] != 'None']\n",
    "\n",
    "# создадим 3 таблицы с интересующими нас этапами\n",
    "# разницу во времени переведём в дни\n",
    "table_level_pack = merged_level_pack_purchase_reg[['tutorial_user_YN', 'timedelta_level_pack']]\n",
    "table_level_pack.insert(2, \"stages\", \"level_choice - pack_choice\", True)\n",
    "table_level_pack['timedelta_level_pack'] = table_level_pack['timedelta_level_pack'].dt.days\n",
    "\n",
    "table_pack_purchase = merged_level_pack_purchase_reg[['tutorial_user_YN', 'timedelta_pack_purchase']]\n",
    "table_pack_purchase.insert(2, \"stages\", \"pack_choice - purchase\", True)\n",
    "table_pack_purchase['timedelta_pack_purchase'] = table_pack_purchase['timedelta_pack_purchase'].dt.days\n",
    "\n",
    "table_reg_purchase = merged_level_pack_purchase_reg[['tutorial_user_YN', 'timedelta_reg_purchase']]\n",
    "table_reg_purchase.insert(2, \"stages\", \"registration - purchase\", True)\n",
    "table_reg_purchase['timedelta_reg_purchase'] = table_reg_purchase['timedelta_reg_purchase'].dt.days\n",
    "\n",
    "fig, axes = plt.subplots(nrows=1, ncols=3, figsize=(10, 8))\n",
    "\n",
    "axes[0].barplot = sns.barplot(\n",
    "    data=table_level_pack,\n",
    "    x='stages',\n",
    "    y='timedelta_level_pack',\n",
    "    hue='tutorial_user_YN',\n",
    "    ax=axes[0]\n",
    ")\n",
    "\n",
    "axes[1].barplot = sns.barplot(\n",
    "    data=table_pack_purchase,\n",
    "    x='stages',\n",
    "    y='timedelta_pack_purchase',\n",
    "    hue='tutorial_user_YN',\n",
    "    ax=axes[1]\n",
    ")\n",
    "\n",
    "axes[2].barplot = sns.barplot(\n",
    "    data=table_reg_purchase,\n",
    "    x='stages',\n",
    "    y='timedelta_reg_purchase',\n",
    "    hue='tutorial_user_YN',\n",
    "    ax=axes[2]\n",
    ")\n"
   ]
  },
  {
   "cell_type": "markdown",
   "metadata": {},
   "source": [
    "ВЫВОД:\n",
    "среднее время между выбором уровня сложности и выбором пакета вопросов пракически не отличается для пользователей, которые прошли обучение и для тех, кто его не начинал.\n",
    "Но среднее время между выбором пакета вопросов и оплатой больше у пользователей, не начинавших обучение в среднем на 12 часов.\n",
    "Кроме того, проанализировав время всего пути, можно сказать, что обучение сокращает время прохождения этапов игры в среднем на 9 часов.\n",
    "Это значит, обучение влияет на момент покупки (приближает к ней)."
   ]
  },
  {
   "cell_type": "markdown",
   "metadata": {},
   "source": [
    "2. Докажем, что успешное обучение само по себе влияет на оплату и не имеет значения то, каким этапом оно шло.\n",
    "Для этого проверим, существует ли зависимость между вероятностью оплаты вопросов и количеством обучений, которые начинал или завершал пользователь. "
   ]
  },
  {
   "cell_type": "markdown",
   "metadata": {},
   "source": [
    "Создадим таблицу с пользователи, которые прошли обучение и которые купили вопросы:"
   ]
  },
  {
   "cell_type": "code",
   "execution_count": 6,
   "metadata": {},
   "outputs": [
    {
     "data": {
      "text/html": [
       "<div>\n",
       "<style scoped>\n",
       "    .dataframe tbody tr th:only-of-type {\n",
       "        vertical-align: middle;\n",
       "    }\n",
       "\n",
       "    .dataframe tbody tr th {\n",
       "        vertical-align: top;\n",
       "    }\n",
       "\n",
       "    .dataframe thead th {\n",
       "        text-align: right;\n",
       "    }\n",
       "</style>\n",
       "<table border=\"1\" class=\"dataframe\">\n",
       "  <thead>\n",
       "    <tr style=\"text-align: right;\">\n",
       "      <th></th>\n",
       "      <th>event_type_x</th>\n",
       "      <th>start_time_x</th>\n",
       "      <th>user_id</th>\n",
       "      <th>event_type_y</th>\n",
       "      <th>start_time_y</th>\n",
       "    </tr>\n",
       "  </thead>\n",
       "  <tbody>\n",
       "    <tr>\n",
       "      <th>0</th>\n",
       "      <td>tutorial_start</td>\n",
       "      <td>2018-01-01 14:54:40</td>\n",
       "      <td>27836</td>\n",
       "      <td>NaN</td>\n",
       "      <td>NaT</td>\n",
       "    </tr>\n",
       "    <tr>\n",
       "      <th>1</th>\n",
       "      <td>tutorial_start</td>\n",
       "      <td>2018-01-01 15:40:43</td>\n",
       "      <td>27836</td>\n",
       "      <td>NaN</td>\n",
       "      <td>NaT</td>\n",
       "    </tr>\n",
       "    <tr>\n",
       "      <th>2</th>\n",
       "      <td>tutorial_start</td>\n",
       "      <td>2018-01-01 15:00:51</td>\n",
       "      <td>27835</td>\n",
       "      <td>NaN</td>\n",
       "      <td>NaT</td>\n",
       "    </tr>\n",
       "    <tr>\n",
       "      <th>3</th>\n",
       "      <td>tutorial_start</td>\n",
       "      <td>2018-01-01 17:47:40</td>\n",
       "      <td>27833</td>\n",
       "      <td>NaN</td>\n",
       "      <td>NaT</td>\n",
       "    </tr>\n",
       "    <tr>\n",
       "      <th>4</th>\n",
       "      <td>tutorial_start</td>\n",
       "      <td>2018-01-01 19:11:36</td>\n",
       "      <td>27839</td>\n",
       "      <td>NaN</td>\n",
       "      <td>NaT</td>\n",
       "    </tr>\n",
       "  </tbody>\n",
       "</table>\n",
       "</div>"
      ],
      "text/plain": [
       "     event_type_x        start_time_x  user_id event_type_y start_time_y\n",
       "0  tutorial_start 2018-01-01 14:54:40    27836          NaN          NaT\n",
       "1  tutorial_start 2018-01-01 15:40:43    27836          NaN          NaT\n",
       "2  tutorial_start 2018-01-01 15:00:51    27835          NaN          NaT\n",
       "3  tutorial_start 2018-01-01 17:47:40    27833          NaN          NaT\n",
       "4  tutorial_start 2018-01-01 19:11:36    27839          NaN          NaT"
      ]
     },
     "execution_count": 6,
     "metadata": {},
     "output_type": "execute_result"
    }
   ],
   "source": [
    "mask_all_tutorial = total_events_df['tutorial_user_YN'] == 'True'\n",
    "mask_tutorial_start = total_events_df['event_type'] == 'tutorial_start'\n",
    "mask_purchase = total_events_df['event_type'] == 'purchase'\n",
    "# таблицы, с пользователи, которые прошли обучение и которые купили вопросы\n",
    "df_tutorial_start = total_events_df[mask_all_tutorial & mask_tutorial_start]\n",
    "df_purchase = total_events_df[mask_all_tutorial & mask_purchase]\n",
    "\n",
    "merged_tutorial_purchase = df_tutorial_start.merge(df_purchase, on=[\"user_id\"], how=\"outer\")\n",
    "\n",
    "merged_tutorial_purchase.drop(\n",
    "    labels=['event_id_x', 'selected_level_x', 'tutorial_id_x', 'purchase_id_x', 'event_datetime_x', 'amount_x', 'tutorial_user_YN_x',\n",
    "            'event_id_y', 'selected_level_y', 'tutorial_id_y', 'purchase_id_y', 'event_datetime_y', 'amount_y', 'tutorial_user_YN_y'], \n",
    "    axis=1, inplace = True)\n",
    "# срез объединённой таблицы\n",
    "merged_tutorial_purchase.head()"
   ]
  },
  {
   "cell_type": "markdown",
   "metadata": {},
   "source": [
    "Создадим новый столбец count_tutorial, которые показывает число обучений пользователя."
   ]
  },
  {
   "cell_type": "code",
   "execution_count": 7,
   "metadata": {},
   "outputs": [
    {
     "data": {
      "text/html": [
       "<div>\n",
       "<style scoped>\n",
       "    .dataframe tbody tr th:only-of-type {\n",
       "        vertical-align: middle;\n",
       "    }\n",
       "\n",
       "    .dataframe tbody tr th {\n",
       "        vertical-align: top;\n",
       "    }\n",
       "\n",
       "    .dataframe thead th {\n",
       "        text-align: right;\n",
       "    }\n",
       "</style>\n",
       "<table border=\"1\" class=\"dataframe\">\n",
       "  <thead>\n",
       "    <tr style=\"text-align: right;\">\n",
       "      <th></th>\n",
       "      <th>event_type_x</th>\n",
       "      <th>start_time_x</th>\n",
       "      <th>user_id</th>\n",
       "      <th>event_type_y</th>\n",
       "      <th>start_time_y</th>\n",
       "      <th>count_tutorial</th>\n",
       "    </tr>\n",
       "  </thead>\n",
       "  <tbody>\n",
       "    <tr>\n",
       "      <th>0</th>\n",
       "      <td>tutorial_start</td>\n",
       "      <td>2018-01-01 14:54:40</td>\n",
       "      <td>27836</td>\n",
       "      <td>NaN</td>\n",
       "      <td>NaT</td>\n",
       "      <td>2</td>\n",
       "    </tr>\n",
       "    <tr>\n",
       "      <th>1</th>\n",
       "      <td>tutorial_start</td>\n",
       "      <td>2018-01-01 15:40:43</td>\n",
       "      <td>27836</td>\n",
       "      <td>NaN</td>\n",
       "      <td>NaT</td>\n",
       "      <td>2</td>\n",
       "    </tr>\n",
       "    <tr>\n",
       "      <th>2</th>\n",
       "      <td>tutorial_start</td>\n",
       "      <td>2018-01-01 15:00:51</td>\n",
       "      <td>27835</td>\n",
       "      <td>NaN</td>\n",
       "      <td>NaT</td>\n",
       "      <td>1</td>\n",
       "    </tr>\n",
       "    <tr>\n",
       "      <th>3</th>\n",
       "      <td>tutorial_start</td>\n",
       "      <td>2018-01-01 17:47:40</td>\n",
       "      <td>27833</td>\n",
       "      <td>NaN</td>\n",
       "      <td>NaT</td>\n",
       "      <td>1</td>\n",
       "    </tr>\n",
       "    <tr>\n",
       "      <th>4</th>\n",
       "      <td>tutorial_start</td>\n",
       "      <td>2018-01-01 19:11:36</td>\n",
       "      <td>27839</td>\n",
       "      <td>NaN</td>\n",
       "      <td>NaT</td>\n",
       "      <td>1</td>\n",
       "    </tr>\n",
       "    <tr>\n",
       "      <th>5</th>\n",
       "      <td>tutorial_start</td>\n",
       "      <td>2018-01-01 19:46:11</td>\n",
       "      <td>27834</td>\n",
       "      <td>NaN</td>\n",
       "      <td>NaT</td>\n",
       "      <td>1</td>\n",
       "    </tr>\n",
       "    <tr>\n",
       "      <th>6</th>\n",
       "      <td>tutorial_start</td>\n",
       "      <td>2018-01-02 03:03:44</td>\n",
       "      <td>27845</td>\n",
       "      <td>purchase</td>\n",
       "      <td>NaT</td>\n",
       "      <td>2</td>\n",
       "    </tr>\n",
       "    <tr>\n",
       "      <th>7</th>\n",
       "      <td>tutorial_start</td>\n",
       "      <td>2018-01-02 07:08:00</td>\n",
       "      <td>27845</td>\n",
       "      <td>purchase</td>\n",
       "      <td>NaT</td>\n",
       "      <td>2</td>\n",
       "    </tr>\n",
       "    <tr>\n",
       "      <th>8</th>\n",
       "      <td>tutorial_start</td>\n",
       "      <td>2018-01-02 04:55:11</td>\n",
       "      <td>27842</td>\n",
       "      <td>NaN</td>\n",
       "      <td>NaT</td>\n",
       "      <td>3</td>\n",
       "    </tr>\n",
       "    <tr>\n",
       "      <th>9</th>\n",
       "      <td>tutorial_start</td>\n",
       "      <td>2018-01-02 09:01:51</td>\n",
       "      <td>27842</td>\n",
       "      <td>NaN</td>\n",
       "      <td>NaT</td>\n",
       "      <td>3</td>\n",
       "    </tr>\n",
       "  </tbody>\n",
       "</table>\n",
       "</div>"
      ],
      "text/plain": [
       "     event_type_x        start_time_x  user_id event_type_y start_time_y  \\\n",
       "0  tutorial_start 2018-01-01 14:54:40    27836          NaN          NaT   \n",
       "1  tutorial_start 2018-01-01 15:40:43    27836          NaN          NaT   \n",
       "2  tutorial_start 2018-01-01 15:00:51    27835          NaN          NaT   \n",
       "3  tutorial_start 2018-01-01 17:47:40    27833          NaN          NaT   \n",
       "4  tutorial_start 2018-01-01 19:11:36    27839          NaN          NaT   \n",
       "5  tutorial_start 2018-01-01 19:46:11    27834          NaN          NaT   \n",
       "6  tutorial_start 2018-01-02 03:03:44    27845     purchase          NaT   \n",
       "7  tutorial_start 2018-01-02 07:08:00    27845     purchase          NaT   \n",
       "8  tutorial_start 2018-01-02 04:55:11    27842          NaN          NaT   \n",
       "9  tutorial_start 2018-01-02 09:01:51    27842          NaN          NaT   \n",
       "\n",
       "   count_tutorial  \n",
       "0               2  \n",
       "1               2  \n",
       "2               1  \n",
       "3               1  \n",
       "4               1  \n",
       "5               1  \n",
       "6               2  \n",
       "7               2  \n",
       "8               3  \n",
       "9               3  "
      ]
     },
     "execution_count": 7,
     "metadata": {},
     "output_type": "execute_result"
    }
   ],
   "source": [
    "merged_tutorial_purchase['count_tutorial'] = 0\n",
    "\n",
    "# Цикл по строкам в таблице. Для всех пользователей, которые завершили обучение, присваиваем значение нового столба - \n",
    "# количество прохождений обучения.\n",
    "for index, row in merged_tutorial_purchase.iterrows(): \n",
    "    count = merged_tutorial_purchase[merged_tutorial_purchase['user_id'] == row['user_id']].start_time_x.count()\n",
    "    merged_tutorial_purchase.loc[index, 'count_tutorial'] = count\n",
    "\n",
    "merged_tutorial_purchase.head(10)"
   ]
  },
  {
   "cell_type": "markdown",
   "metadata": {},
   "source": [
    "И так, список уникальных значений количества обучений:"
   ]
  },
  {
   "cell_type": "code",
   "execution_count": 8,
   "metadata": {},
   "outputs": [
    {
     "name": "stdout",
     "output_type": "stream",
     "text": [
      "[2 1 3 5 8 6 7 4 9]\n"
     ]
    }
   ],
   "source": [
    "print(merged_tutorial_purchase.count_tutorial.unique())"
   ]
  },
  {
   "cell_type": "markdown",
   "metadata": {},
   "source": [
    "Для каждой группы пользователей, в зависимости от количества законченных обучений, найдём количество всех пользователей и тех из них, кто произвел оплату:"
   ]
  },
  {
   "cell_type": "code",
   "execution_count": 9,
   "metadata": {},
   "outputs": [],
   "source": [
    "# group1\n",
    "g1_count_user_tut = merged_tutorial_purchase[(merged_tutorial_purchase['event_type_x'] == 'tutorial_start') &\n",
    "                         (merged_tutorial_purchase['count_tutorial'] == 1)].user_id.nunique()\n",
    "g1_count_user_pr = merged_tutorial_purchase[(merged_tutorial_purchase['event_type_y'] == 'purchase') &\n",
    "                         (merged_tutorial_purchase['count_tutorial'] == 1)].user_id.nunique()\n",
    "df_group_1 = pd.DataFrame(\n",
    "    data = [['Прошли обучение', g1_count_user_tut],\n",
    "            ['Произвели оплату', g1_count_user_pr]],\n",
    "    columns = ['user_type', 'count_user']\n",
    ")\n",
    "\n",
    "# group2\n",
    "g2_count_user_tut = merged_tutorial_purchase[(merged_tutorial_purchase['event_type_x'] == 'tutorial_start') &\n",
    "                         (merged_tutorial_purchase['count_tutorial'] == 2)].user_id.nunique()\n",
    "g2_count_user_pr = merged_tutorial_purchase[(merged_tutorial_purchase['event_type_y'] == 'purchase') &\n",
    "                         (merged_tutorial_purchase['count_tutorial'] == 2)].user_id.nunique()\n",
    "df_group_2 = pd.DataFrame(\n",
    "    data = [['Прошли обучение', g2_count_user_tut],\n",
    "            ['Произвели оплату', g2_count_user_pr]],\n",
    "    columns = ['user_type', 'count_user']\n",
    ")\n",
    "\n",
    "# group3\n",
    "g3_count_user_tut = merged_tutorial_purchase[(merged_tutorial_purchase['event_type_x'] == 'tutorial_start') &\n",
    "                         (merged_tutorial_purchase['count_tutorial'] == 3)].user_id.nunique()\n",
    "g3_count_user_pr = merged_tutorial_purchase[(merged_tutorial_purchase['event_type_y'] == 'purchase') &\n",
    "                         (merged_tutorial_purchase['count_tutorial'] == 3)].user_id.nunique()\n",
    "df_group_3 = pd.DataFrame(\n",
    "    data = [['Прошли обучение', g3_count_user_tut],\n",
    "            ['Произвели оплату', g3_count_user_pr]],\n",
    "    columns = ['user_type', 'count_user']\n",
    ")\n",
    "\n",
    "# group4\n",
    "g4_count_user_tut = merged_tutorial_purchase[(merged_tutorial_purchase['event_type_x'] == 'tutorial_start') &\n",
    "                         (merged_tutorial_purchase['count_tutorial'] == 4)].user_id.nunique()\n",
    "g4_count_user_pr = merged_tutorial_purchase[(merged_tutorial_purchase['event_type_y'] == 'purchase') &\n",
    "                         (merged_tutorial_purchase['count_tutorial'] == 4)].user_id.nunique()\n",
    "df_group_4 = pd.DataFrame(\n",
    "    data = [['Прошли обучение', g4_count_user_tut],\n",
    "            ['Произвели оплату', g4_count_user_pr]],\n",
    "    columns = ['user_type', 'count_user']\n",
    ")\n",
    "\n",
    "# group5\n",
    "g5_count_user_tut = merged_tutorial_purchase[(merged_tutorial_purchase['event_type_x'] == 'tutorial_start') &\n",
    "                         (merged_tutorial_purchase['count_tutorial'] == 5)].user_id.nunique()\n",
    "g5_count_user_pr = merged_tutorial_purchase[(merged_tutorial_purchase['event_type_y'] == 'purchase') &\n",
    "                         (merged_tutorial_purchase['count_tutorial'] == 5)].user_id.nunique()\n",
    "df_group_5 = pd.DataFrame(\n",
    "    data = [['Прошли обучение', g5_count_user_tut],\n",
    "            ['Произвели оплату', g5_count_user_pr]],\n",
    "    columns = ['user_type', 'count_user']\n",
    ")\n",
    "\n",
    "# group6\n",
    "g6_count_user_tut = merged_tutorial_purchase[(merged_tutorial_purchase['event_type_x'] == 'tutorial_start') &\n",
    "                         (merged_tutorial_purchase['count_tutorial'] == 6)].user_id.nunique()\n",
    "g6_count_user_pr = merged_tutorial_purchase[(merged_tutorial_purchase['event_type_y'] == 'purchase') &\n",
    "                         (merged_tutorial_purchase['count_tutorial'] == 6)].user_id.nunique()\n",
    "df_group_6 = pd.DataFrame(\n",
    "    data = [['Прошли обучение', g6_count_user_tut],\n",
    "            ['Произвели оплату', g6_count_user_pr]],\n",
    "    columns = ['user_type', 'count_user']\n",
    ")\n",
    "\n",
    "# group7\n",
    "g7_count_user_tut = merged_tutorial_purchase[(merged_tutorial_purchase['event_type_x'] == 'tutorial_start') &\n",
    "                         (merged_tutorial_purchase['count_tutorial'] == 7)].user_id.nunique()\n",
    "g7_count_user_pr = merged_tutorial_purchase[(merged_tutorial_purchase['event_type_y'] == 'purchase') &\n",
    "                         (merged_tutorial_purchase['count_tutorial'] == 7)].user_id.nunique()\n",
    "df_group_7 = pd.DataFrame(\n",
    "    data = [['Прошли обучение', g7_count_user_tut],\n",
    "            ['Произвели оплату', g7_count_user_pr]],\n",
    "    columns = ['user_type', 'count_user']\n",
    ")\n",
    "\n",
    "# group8\n",
    "g8_count_user_tut = merged_tutorial_purchase[(merged_tutorial_purchase['event_type_x'] == 'tutorial_start') &\n",
    "                         (merged_tutorial_purchase['count_tutorial'] == 8)].user_id.nunique()\n",
    "g8_count_user_pr = merged_tutorial_purchase[(merged_tutorial_purchase['event_type_y'] == 'purchase') &\n",
    "                         (merged_tutorial_purchase['count_tutorial'] == 8)].user_id.nunique()\n",
    "df_group_8 = pd.DataFrame(\n",
    "    data = [['Прошли обучение', g8_count_user_tut],\n",
    "            ['Произвели оплату', g8_count_user_pr]],\n",
    "    columns = ['user_type', 'count_user']\n",
    ")\n",
    "\n",
    "# group9\n",
    "g9_count_user_tut = merged_tutorial_purchase[(merged_tutorial_purchase['event_type_x'] == 'tutorial_start') &\n",
    "                         (merged_tutorial_purchase['count_tutorial'] == 9)].user_id.nunique()\n",
    "g9_count_user_pr = merged_tutorial_purchase[(merged_tutorial_purchase['event_type_y'] == 'purchase') &\n",
    "                         (merged_tutorial_purchase['count_tutorial'] == 9)].user_id.nunique()\n",
    "df_group_9 = pd.DataFrame(\n",
    "    data = [['Прошли обучение', g9_count_user_tut],\n",
    "            ['Произвели оплату', g9_count_user_pr]],\n",
    "    columns = ['user_type', 'count_user']\n",
    ")"
   ]
  },
  {
   "cell_type": "markdown",
   "metadata": {},
   "source": [
    "Построим диаграммы, отражающие процент оплат для группы пользователей в зависимости от количества законченных обучений."
   ]
  },
  {
   "cell_type": "code",
   "execution_count": 10,
   "metadata": {},
   "outputs": [
    {
     "data": {
      "text/plain": [
       "Text(0.5, 1.0, 'Количество обучений: 9')"
      ]
     },
     "execution_count": 10,
     "metadata": {},
     "output_type": "execute_result"
    },
    {
     "data": {
      "image/png": "[encoded data removed]",
      "text/plain": [
       "<Figure size 216x216 with 9 Axes>"
      ]
     },
     "metadata": {},
     "output_type": "display_data"
    }
   ],
   "source": [
    "fig = plt.figure(figsize=(3, 3))\n",
    "\n",
    "axes = fig.add_axes([0, 0, 1, 1])\n",
    "axes.pie(\n",
    "    df_group_1['count_user'],\n",
    "    labels=df_group_1.user_type,\n",
    "    autopct='%.1f%%',\n",
    "    explode = [0.1, 0]\n",
    ");\n",
    "axes.set_title('Количество обучений: 1')\n",
    "\n",
    "axes2 = fig.add_axes([0, 0, 4, 1])\n",
    "axes2.pie(\n",
    "    df_group_2['count_user'],\n",
    "    labels=df_group_2.user_type,\n",
    "    autopct='%.1f%%',\n",
    "    explode = [0.1, 0]\n",
    ");\n",
    "axes2.set_title('Количество обучений: 2')\n",
    "\n",
    "axes3 = fig.add_axes([0, 0, 7, 1])\n",
    "axes3.pie(\n",
    "    df_group_3['count_user'],\n",
    "    labels=df_group_3.user_type,\n",
    "    autopct='%.1f%%',\n",
    "    explode = [0.1, 0]\n",
    ");\n",
    "axes3.set_title('Количество обучений: 3')\n",
    "\n",
    "axes4 = fig.add_axes([0, -1, 1, 1])\n",
    "axes4.pie(\n",
    "    df_group_4['count_user'],\n",
    "    labels=df_group_4.user_type,\n",
    "    autopct='%.1f%%',\n",
    "    explode = [0.1, 0]\n",
    ");\n",
    "axes4.set_title('Количество обучений: 4')\n",
    "\n",
    "axes5 = fig.add_axes([0, -1, 4, 1])\n",
    "axes5.pie(\n",
    "    df_group_5['count_user'],\n",
    "    labels=df_group_5.user_type,\n",
    "    autopct='%.1f%%',\n",
    "    explode = [0.1, 0]\n",
    ");\n",
    "axes5.set_title('Количество обучений: 5')\n",
    "\n",
    "axes6 = fig.add_axes([0, -1, 7, 1])\n",
    "axes6.pie(\n",
    "    df_group_6['count_user'],\n",
    "    labels=df_group_6.user_type,\n",
    "    autopct='%.1f%%',\n",
    "    explode = [0.1, 0]\n",
    ");\n",
    "axes6.set_title('Количество обучений: 6')\n",
    "\n",
    "axes7 = fig.add_axes([0, -2, 1, 1])\n",
    "axes7.pie(\n",
    "    df_group_7['count_user'],\n",
    "    labels=df_group_7.user_type,\n",
    "    autopct='%.1f%%',\n",
    "    explode = [0.1, 0]\n",
    ");\n",
    "axes7.set_title('Количество обучений: 7')\n",
    "\n",
    "axes8 = fig.add_axes([0, -2, 4, 1])\n",
    "axes8.pie(\n",
    "    df_group_8['count_user'],\n",
    "    labels=df_group_8.user_type,\n",
    "    autopct='%.1f%%',\n",
    "    explode = [0.1, 0]\n",
    ");\n",
    "axes8.set_title('Количество обучений: 8')\n",
    "\n",
    "axes9 = fig.add_axes([0, -2, 7, 1])\n",
    "axes9.pie(\n",
    "    df_group_9['count_user'],\n",
    "    labels=df_group_9.user_type,\n",
    "    autopct='%.1f%%',\n",
    "    explode = [0.1, 0]\n",
    ");\n",
    "axes9.set_title('Количество обучений: 9')"
   ]
  },
  {
   "cell_type": "markdown",
   "metadata": {},
   "source": [
    "ВЫВОД: Из построенных диаграмм видно, что успешное обучение влияет на оплату. Между вероятностью оплаты вопросов и количеством обучений, которые начинал или завершал пользователь, существует зависимость. Вероятность оплаты состовляет в среднем от 10 до 13%. "
   ]
  },
  {
   "cell_type": "markdown",
   "metadata": {},
   "source": [
    "3. Если пользователь сначала выбирает сложность обучения, будет ли он потом проходить обучение? Т.е., определим, насколько прозрачен процесс взаимодействия с игрой. Для этого выясним, как часто пользователи начинают обучение после выбора уровня сложности. (если пользователи после выбора уровня сложности обращаются к обучению, значит, работа с приложением непонятна.)"
   ]
  },
  {
   "cell_type": "code",
   "execution_count": 11,
   "metadata": {},
   "outputs": [
    {
     "name": "stdout",
     "output_type": "stream",
     "text": [
      "Количество пользователй, которые выбрали уровень сложности:\n",
      "5737\n"
     ]
    }
   ],
   "source": [
    "# Для анализа данной гипотезы, нам достаточно таблицы Events (events_df)\n",
    "\n",
    "# отфильтруем таблицу по событию pack_choice (выбор уровня сложности)\n",
    "events_pack_choice = events_df[events_df['event_type'] == 'pack_choice']\n",
    "\n",
    "# создадим словарь для события pack_choice, где ключ - user_id, значение - start_time\n",
    "dict_user_pack_choice = {}\n",
    "# Цикл по строкам в отфильтрованной таблице\n",
    "for index, row in events_pack_choice.iterrows(): \n",
    "    dict_user_pack_choice.setdefault(row['user_id'], row['start_time'])\n",
    "\n",
    "print('Количество пользователй, которые выбрали уровень сложности:')\n",
    "print(len(dict_user_pack_choice))"
   ]
  },
  {
   "cell_type": "code",
   "execution_count": 12,
   "metadata": {},
   "outputs": [
    {
     "name": "stdout",
     "output_type": "stream",
     "text": [
      "Количество пользователй, которые начали обучение после выбора уровеня сложности:\n",
      "1851\n"
     ]
    }
   ],
   "source": [
    "# будущий список пользователей, которые начали обучение после выбора уровня сложности\n",
    "users_after_pack_choice = []\n",
    "\n",
    "# Цикл по таблице Events. Если для пользователя время события обучения позже, чем время события уровня сложности (хранится в словаре),\n",
    "# вносим пользователя в список\n",
    "for index, row in events_df[events_df['event_type'] == 'tutorial_start'].iterrows(): \n",
    "    try:\n",
    "        if row['start_time'] > dict_user_pack_choice[row['user_id']]:\n",
    "            users_after_pack_choice.append(row['user_id'])\n",
    "    except:\n",
    "        pass\n",
    "    \n",
    "print('Количество пользователй, которые начали обучение после выбора уровеня сложности:')\n",
    "print(len(users_after_pack_choice))"
   ]
  },
  {
   "cell_type": "code",
   "execution_count": 13,
   "metadata": {},
   "outputs": [
    {
     "name": "stdout",
     "output_type": "stream",
     "text": [
      "\n",
      "Процент пользователей, которые возвращались к обучению после выбора уровня от всех, кто выбрал уровень: 32.26%\n"
     ]
    }
   ],
   "source": [
    "percent_of_usersafter_pack_choice = len(users_after_pack_choice) / len(dict_user_pack_choice)\n",
    "print(\n",
    "    \"\\nПроцент пользователей, которые возвращались к обучению после выбора уровня от всех, кто выбрал уровень: {:.2%}\".format(\n",
    "        percent_of_usersafter_pack_choice\n",
    "    )\n",
    ")"
   ]
  },
  {
   "cell_type": "markdown",
   "metadata": {},
   "source": [
    "ВЫВОД: 32% пользователей начинают обучение после выбора уровня сложности. Это достаточно большой процент, который означает, что многим пользователям непонятна работа с приложением."
   ]
  }
 ],
 "metadata": {
  "interpreter": {
   "hash": "63d5c79a4be79a1d27b6a78764fc4175f14dae09d0ececb7763d9b794ecdba68"
  },
  "kernelspec": {
   "display_name": "Python 3.10.2 64-bit",
   "language": "python",
   "name": "python3"
  },
  "language_info": {
   "codemirror_mode": {
    "name": "ipython",
    "version": 3
   },
   "file_extension": ".py",
   "mimetype": "text/x-python",
   "name": "python",
   "nbconvert_exporter": "python",
   "pygments_lexer": "ipython3",
   "version": "3.10.2"
  },
  "orig_nbformat": 4
 },
 "nbformat": 4,
 "nbformat_minor": 2
}
