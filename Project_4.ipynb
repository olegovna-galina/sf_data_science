{
 "cells": [
  {
   "cell_type": "markdown",
   "metadata": {},
   "source": [
    "### ЦЕЛЬ\n",
    "Подготовить основу рекомендательной системы в онлайн-школе MasterMind."
   ]
  },
  {
   "cell_type": "markdown",
   "metadata": {},
   "source": [
    "### ЗАДАЧИ\n",
    "\n",
    "Подготовка рекомендательной системы, благодаря которой можно будет предлагать клиентам интересные им курсы и тем самым повышать средний чек.\n",
    "\n",
    "Изначальным воплощением этой системы может стать таблица, в которой курсам будет соответствовать по две рекомендации."
   ]
  },
  {
   "cell_type": "markdown",
   "metadata": {},
   "source": [
    "### КОНКРЕТНЫЕ ШАГИ (ФОРМАЛИЗОВАННЫЕ ЗАДАЧИ)\n",
    "\n",
    "- Познакомиться с датасетом, подготовить и проанализировать данные с помощью SQL.\n",
    "- Обработать данные средствами Python.\n",
    "- Составить итоговую таблицу с рекомендациями, снабдив её необходимыми комментариями, и представить отчёт продакт-менеджеру."
   ]
  },
  {
   "cell_type": "markdown",
   "metadata": {},
   "source": [
    "#### 1. Знакомство с данными"
   ]
  },
  {
   "cell_type": "markdown",
   "metadata": {},
   "source": [
    "В распоряжении две таблицы:\n",
    "\n",
    "- carts - с данными о пользовательских корзинах (дате создания, статусе, id пользователя-владельца и т. д.);\n",
    "- cart items с данными о курсах, которые пользователи добавили в корзину."
   ]
  },
  {
   "cell_type": "markdown",
   "metadata": {},
   "source": [
    "Необходимые таблицы находятся в схеме final в Metabase.\n",
    "Итак (посредством SQL удалось выяснить):\n",
    "\n",
    "- В данных находятся продажи за 2017 и 2018 года.\n",
    "- 49006 клиентов покупали курсы\n",
    "- всего есть 127 различных курсов \n",
    "- среднее число купленных курсов на одного клиента: 1.44\n",
    "- 12656 клиентов купили больше одного курса."
   ]
  },
  {
   "cell_type": "markdown",
   "metadata": {},
   "source": [
    "Подготовим SQL-запрос для выгрузки данных по продажам курсов в разрезе пользователей (купивших более одного курса):"
   ]
  },
  {
   "cell_type": "code",
   "execution_count": 1,
   "metadata": {},
   "outputs": [],
   "source": [
    "# WITH users AS (\n",
    "# select \n",
    "#       count(distinct cri.resource_id) as cnt\n",
    "#     , cr.user_id\n",
    "# from final.carts cr\n",
    "# left join final.cart_items cri on cr.ID = cri.cart_id\n",
    "# where cr.state = 'successful'\n",
    "# and cri.resource_type = 'Course'\n",
    "# group by cr.user_id\n",
    "# )\n",
    "# select \n",
    "#       cr.user_id\n",
    "#     , cr.created_at as \"cart_created_at\"\n",
    "#     , cr.id as \"cart_id\"\n",
    "#     , cr.promo_code_id\n",
    "#     , cr.purchased_at\n",
    "#     , cr.updated_at as \"cart_updated_at\"\n",
    "#     , cri.id as \"cart_item_id\"\n",
    "#     , cri.resource_id as \"course_id\"\n",
    "#     , cri.created_at as \"cartItem_created_at\"\n",
    "#     , cri.updated_at as \"cartItem_updated_at\"\n",
    "# from \n",
    "#    final.carts cr\n",
    "# left join \n",
    "#    final.cart_items cri on cr.ID = cri.cart_id\n",
    "# join \n",
    "#    users us on us.user_id = cr.user_id\n",
    "#             and us.cnt > 1\n",
    "# where \n",
    "#    cr.state = 'successful'\n",
    "# and cri.resource_type = 'Course'"
   ]
  },
  {
   "cell_type": "markdown",
   "metadata": {},
   "source": [
    "#### 2. Обработка данных"
   ]
  },
  {
   "cell_type": "markdown",
   "metadata": {},
   "source": [
    "Перейдём к анализу полученного списка с помощью Python."
   ]
  },
  {
   "cell_type": "code",
   "execution_count": 2,
   "metadata": {},
   "outputs": [],
   "source": [
    "import pandas as pd\n",
    "df = pd.read_csv(r'''E:\\DOKU\\Аналитика данных\\Python\\VS Code\\data_base\\query_result.csv''')"
   ]
  },
  {
   "cell_type": "code",
   "execution_count": 3,
   "metadata": {},
   "outputs": [
    {
     "data": {
      "text/html": [
       "<div>\n",
       "<style scoped>\n",
       "    .dataframe tbody tr th:only-of-type {\n",
       "        vertical-align: middle;\n",
       "    }\n",
       "\n",
       "    .dataframe tbody tr th {\n",
       "        vertical-align: top;\n",
       "    }\n",
       "\n",
       "    .dataframe thead th {\n",
       "        text-align: right;\n",
       "    }\n",
       "</style>\n",
       "<table border=\"1\" class=\"dataframe\">\n",
       "  <thead>\n",
       "    <tr style=\"text-align: right;\">\n",
       "      <th></th>\n",
       "      <th>user_id</th>\n",
       "      <th>cart_created_at</th>\n",
       "      <th>cart_id</th>\n",
       "      <th>promo_code_id</th>\n",
       "      <th>purchased_at</th>\n",
       "      <th>cart_updated_at</th>\n",
       "      <th>cart_item_id</th>\n",
       "      <th>course_id</th>\n",
       "      <th>cartItem_created_at</th>\n",
       "      <th>cartItem_updated_at</th>\n",
       "    </tr>\n",
       "  </thead>\n",
       "  <tbody>\n",
       "    <tr>\n",
       "      <th>0</th>\n",
       "      <td>1010882</td>\n",
       "      <td>2017-01-19T07:50:41.298</td>\n",
       "      <td>230789</td>\n",
       "      <td>NaN</td>\n",
       "      <td>2017-01-19T07:52:08.59</td>\n",
       "      <td>2017-01-19T07:52:08.586</td>\n",
       "      <td>522159</td>\n",
       "      <td>490</td>\n",
       "      <td>2017-01-19T07:50:41.313</td>\n",
       "      <td>2017-01-19T07:50:41.313</td>\n",
       "    </tr>\n",
       "    <tr>\n",
       "      <th>1</th>\n",
       "      <td>906674</td>\n",
       "      <td>2016-10-24T15:49:18.112</td>\n",
       "      <td>189760</td>\n",
       "      <td>NaN</td>\n",
       "      <td>2017-01-11T12:20:13.399</td>\n",
       "      <td>2017-01-11T12:20:13.396</td>\n",
       "      <td>460355</td>\n",
       "      <td>357</td>\n",
       "      <td>2016-10-24T15:49:18.127</td>\n",
       "      <td>2016-10-24T15:49:18.127</td>\n",
       "    </tr>\n",
       "    <tr>\n",
       "      <th>2</th>\n",
       "      <td>160494</td>\n",
       "      <td>2017-04-03T09:03:37.633</td>\n",
       "      <td>258743</td>\n",
       "      <td>3548100.0</td>\n",
       "      <td>2017-06-15T18:31:46.577</td>\n",
       "      <td>2017-06-15T18:31:46.573</td>\n",
       "      <td>575400</td>\n",
       "      <td>507</td>\n",
       "      <td>2017-04-03T09:05:18.837</td>\n",
       "      <td>2017-04-03T09:05:18.837</td>\n",
       "    </tr>\n",
       "    <tr>\n",
       "      <th>3</th>\n",
       "      <td>749529</td>\n",
       "      <td>2017-01-18T22:50:51.644</td>\n",
       "      <td>230716</td>\n",
       "      <td>NaN</td>\n",
       "      <td>2017-01-18T22:54:15.901</td>\n",
       "      <td>2017-01-18T22:54:15.896</td>\n",
       "      <td>522058</td>\n",
       "      <td>489</td>\n",
       "      <td>2017-01-18T22:50:51.658</td>\n",
       "      <td>2017-01-18T22:50:51.658</td>\n",
       "    </tr>\n",
       "    <tr>\n",
       "      <th>4</th>\n",
       "      <td>1010802</td>\n",
       "      <td>2017-01-19T00:24:25.214</td>\n",
       "      <td>230722</td>\n",
       "      <td>NaN</td>\n",
       "      <td>2017-01-19T00:26:00.862</td>\n",
       "      <td>2017-01-19T00:26:00.858</td>\n",
       "      <td>522063</td>\n",
       "      <td>514</td>\n",
       "      <td>2017-01-19T00:24:25.227</td>\n",
       "      <td>2017-01-19T00:24:25.227</td>\n",
       "    </tr>\n",
       "  </tbody>\n",
       "</table>\n",
       "</div>"
      ],
      "text/plain": [
       "   user_id          cart_created_at  cart_id  promo_code_id  \\\n",
       "0  1010882  2017-01-19T07:50:41.298   230789            NaN   \n",
       "1   906674  2016-10-24T15:49:18.112   189760            NaN   \n",
       "2   160494  2017-04-03T09:03:37.633   258743      3548100.0   \n",
       "3   749529  2017-01-18T22:50:51.644   230716            NaN   \n",
       "4  1010802  2017-01-19T00:24:25.214   230722            NaN   \n",
       "\n",
       "              purchased_at          cart_updated_at  cart_item_id  course_id  \\\n",
       "0   2017-01-19T07:52:08.59  2017-01-19T07:52:08.586        522159        490   \n",
       "1  2017-01-11T12:20:13.399  2017-01-11T12:20:13.396        460355        357   \n",
       "2  2017-06-15T18:31:46.577  2017-06-15T18:31:46.573        575400        507   \n",
       "3  2017-01-18T22:54:15.901  2017-01-18T22:54:15.896        522058        489   \n",
       "4  2017-01-19T00:26:00.862  2017-01-19T00:26:00.858        522063        514   \n",
       "\n",
       "       cartItem_created_at      cartItem_updated_at  \n",
       "0  2017-01-19T07:50:41.313  2017-01-19T07:50:41.313  \n",
       "1  2016-10-24T15:49:18.127  2016-10-24T15:49:18.127  \n",
       "2  2017-04-03T09:05:18.837  2017-04-03T09:05:18.837  \n",
       "3  2017-01-18T22:50:51.658  2017-01-18T22:50:51.658  \n",
       "4  2017-01-19T00:24:25.227  2017-01-19T00:24:25.227  "
      ]
     },
     "execution_count": 3,
     "metadata": {},
     "output_type": "execute_result"
    }
   ],
   "source": [
    "df.head()"
   ]
  },
  {
   "cell_type": "markdown",
   "metadata": {},
   "source": [
    "Разобьём все покупки курсов по парам, после чего ранжируем их для каждого курса."
   ]
  },
  {
   "cell_type": "code",
   "execution_count": 4,
   "metadata": {},
   "outputs": [
    {
     "data": {
      "text/html": [
       "<div>\n",
       "<style scoped>\n",
       "    .dataframe tbody tr th:only-of-type {\n",
       "        vertical-align: middle;\n",
       "    }\n",
       "\n",
       "    .dataframe tbody tr th {\n",
       "        vertical-align: top;\n",
       "    }\n",
       "\n",
       "    .dataframe thead th {\n",
       "        text-align: right;\n",
       "    }\n",
       "</style>\n",
       "<table border=\"1\" class=\"dataframe\">\n",
       "  <thead>\n",
       "    <tr style=\"text-align: right;\">\n",
       "      <th></th>\n",
       "      <th>user_id</th>\n",
       "      <th>course_id</th>\n",
       "    </tr>\n",
       "  </thead>\n",
       "  <tbody>\n",
       "    <tr>\n",
       "      <th>0</th>\n",
       "      <td>51</td>\n",
       "      <td>[516, 1099]</td>\n",
       "    </tr>\n",
       "    <tr>\n",
       "      <th>1</th>\n",
       "      <td>6117</td>\n",
       "      <td>[356, 357, 1125]</td>\n",
       "    </tr>\n",
       "    <tr>\n",
       "      <th>2</th>\n",
       "      <td>10275</td>\n",
       "      <td>[553, 1147]</td>\n",
       "    </tr>\n",
       "    <tr>\n",
       "      <th>3</th>\n",
       "      <td>10457</td>\n",
       "      <td>[361, 1138]</td>\n",
       "    </tr>\n",
       "    <tr>\n",
       "      <th>4</th>\n",
       "      <td>17166</td>\n",
       "      <td>[356, 357]</td>\n",
       "    </tr>\n",
       "  </tbody>\n",
       "</table>\n",
       "</div>"
      ],
      "text/plain": [
       "   user_id         course_id\n",
       "0       51       [516, 1099]\n",
       "1     6117  [356, 357, 1125]\n",
       "2    10275       [553, 1147]\n",
       "3    10457       [361, 1138]\n",
       "4    17166        [356, 357]"
      ]
     },
     "execution_count": 4,
     "metadata": {},
     "output_type": "execute_result"
    }
   ],
   "source": [
    "import numpy as np\n",
    "# для начала сгруппируем курсы по пользователям\n",
    "# метод np.unique() возвращает уникальные и отсортированные значения\n",
    "\n",
    "group_df = df.groupby('user_id')['course_id'].apply(lambda x:list(np.unique(x))).reset_index()\n",
    "group_df.head()"
   ]
  },
  {
   "cell_type": "code",
   "execution_count": 5,
   "metadata": {},
   "outputs": [],
   "source": [
    "# Далее разобьем все покупки курсов по парам.\n",
    "\n",
    "import itertools\n",
    "# здесь функция itertools.combinations() принимает два параметра: итерируемоя последовательность и длина возвращаемых кортежей.\n",
    "# Возвращаемое значение - итератор со всеми возможными комбинациями элементов входной последовательности.\n",
    "\n",
    "list_courses = list()\n",
    "for course in group_df['course_id']: # здесь course - список курсов для текущего пользователя \n",
    "    for pair in itertools.combinations(course, 2): # здесь pair - текущая комбинация (пара) из этого списка\n",
    "        list_courses.append(pair)\n",
    "        \n",
    "# --> [(516, 1099), (356, 357), (356, 1125), (357, 1125), (553, 1147), (361, 1138), (356, 357)..]"
   ]
  },
  {
   "cell_type": "code",
   "execution_count": 6,
   "metadata": {},
   "outputs": [
    {
     "data": {
      "text/plain": [
       "40017"
      ]
     },
     "execution_count": 6,
     "metadata": {},
     "output_type": "execute_result"
    }
   ],
   "source": [
    "# количество всех пар\n",
    "len(list_courses)"
   ]
  },
  {
   "cell_type": "code",
   "execution_count": 7,
   "metadata": {},
   "outputs": [
    {
     "data": {
      "text/plain": [
       "3989"
      ]
     },
     "execution_count": 7,
     "metadata": {},
     "output_type": "execute_result"
    }
   ],
   "source": [
    "# Сколько различных пар курсов встречаются в покупках клиентов:\n",
    "from collections import Counter\n",
    "\n",
    "# класс collections.Counter() предназначен для подсчета количества повторений элементов в последовательности.\n",
    "# Это подкласс словаря dict, в которой элементы хранятся в виде словарных ключей, а их счетчики хранятся в виде значений словаря.\n",
    "cnt = Counter(list_courses)\n",
    "len_of_dict = len(dict(cnt))\n",
    "len_of_dict\n",
    "\n",
    "# --> {(516, 1099): 25, (356, 357): 100, (356, 1125): 44, ...}\n",
    "# длина словаря - это и есть количество уникальных пар"
   ]
  },
  {
   "cell_type": "code",
   "execution_count": 8,
   "metadata": {},
   "outputs": [
    {
     "data": {
      "text/plain": [
       "[((551, 566), 797)]"
      ]
     },
     "execution_count": 8,
     "metadata": {},
     "output_type": "execute_result"
    }
   ],
   "source": [
    "# Cамая популярная пара курсов.\n",
    "# Метод Counter.most_common() возвращает список из N наиболее распространенных элементов и их количество от наиболее распространенных до наименее.\n",
    "Counter(list_courses).most_common(1)"
   ]
  },
  {
   "cell_type": "markdown",
   "metadata": {},
   "source": [
    "#### 3. Составление итоговой таблицы с рекомендациями"
   ]
  },
  {
   "cell_type": "markdown",
   "metadata": {},
   "source": [
    "Итоговая таблица будет состоять из трёх столбцов:\n",
    "\n",
    "- Курс, к которому идёт рекомендация.\n",
    "- Курс для рекомендации № 1 (самый популярный).\n",
    "- Курс для рекомендации № 2 (второй по популярности)."
   ]
  },
  {
   "cell_type": "code",
   "execution_count": 9,
   "metadata": {},
   "outputs": [],
   "source": [
    "# И-так, сохраним уникальные пары и их количество в словарь. Они будут отсортированы от наиболее распространенных до наименее. \n",
    "# Словарь получится такого вида:\n",
    "# {(551, 566): 797,\n",
    "# (515, 551): 417,\n",
    "# (489, 551): 311,\n",
    "# (523, 551): 304,\n",
    "# (566, 794): 290, ...}\n",
    "\n",
    "sorted_pairs = dict(Counter(list_courses).most_common(len_of_dict))"
   ]
  },
  {
   "cell_type": "markdown",
   "metadata": {},
   "source": [
    "Условимся, что будем делать, если одна из рекомендаций встречается слишком редко:\n",
    "- Прежде всего нужно установить минимальную границу — какое количество раз считать слишком малым.\n",
    "- Вместо малопопулярного курса выведем курс, который подходит лучше."
   ]
  },
  {
   "cell_type": "code",
   "execution_count": 10,
   "metadata": {},
   "outputs": [],
   "source": [
    "# Выведем количество пар курсов из нашего словаря в отдельный список:\n",
    "count_list = list(sorted_pairs.values())\n",
    "\n",
    "# --> [797, 417, 311, ...]"
   ]
  },
  {
   "cell_type": "code",
   "execution_count": 11,
   "metadata": {},
   "outputs": [
    {
     "data": {
      "text/plain": [
       "3.0"
      ]
     },
     "execution_count": 11,
     "metadata": {},
     "output_type": "execute_result"
    }
   ],
   "source": [
    "# найдём 50% процентиль (медиана) для данной выборки. Т.е. функция должна вернуть такое значение, \n",
    "# которое меньше ровно половины элементов массива:\n",
    "\n",
    "percentile = np.percentile(count_list, 50)\n",
    "percentile"
   ]
  },
  {
   "cell_type": "code",
   "execution_count": 12,
   "metadata": {},
   "outputs": [
    {
     "data": {
      "text/plain": [
       "1860"
      ]
     },
     "execution_count": 12,
     "metadata": {},
     "output_type": "execute_result"
    }
   ],
   "source": [
    "# удаляем из словаря те пары, для которых количество меньше или равно процентиля.\n",
    "\n",
    "not_popular_course = []\n",
    "\n",
    "for pair in sorted_pairs.keys():\n",
    "    if sorted_pairs.get(pair) <= percentile:\n",
    "        not_popular_course.append(pair) # список непопулярных пар\n",
    "\n",
    "for pair in not_popular_course:\n",
    "    sorted_pairs.pop(pair)\n",
    "    \n",
    "len(sorted_pairs)"
   ]
  },
  {
   "cell_type": "code",
   "execution_count": 13,
   "metadata": {},
   "outputs": [],
   "source": [
    "# Создадим функцию, которая на вход получает один текущий уникальный курс.\n",
    "# Для каждого курса мы получим два отсортированных кортежа, где вторыми элементами будут являться наши рекомендации.\n",
    "\n",
    "def recommendations(course):\n",
    "    local_list = []\n",
    "    \n",
    "    # обойдём наш словарь, где ключ (i) - кортеж (пара)\n",
    "    for i in sorted_pairs.keys():\n",
    "        if i[0] == course: # если первый элемент этой пары - наш курс, \n",
    "                           # добавим в конец списка кортеж вида [(551, 566), (551, 552) ...]\n",
    "            local_list.append(i)\n",
    "    return local_list[:2]"
   ]
  },
  {
   "cell_type": "code",
   "execution_count": 14,
   "metadata": {},
   "outputs": [],
   "source": [
    "# создадим список уникальных значений курсов\n",
    "list_courses_unique = df.course_id.unique();"
   ]
  },
  {
   "cell_type": "code",
   "execution_count": 15,
   "metadata": {},
   "outputs": [
    {
     "data": {
      "text/plain": [
       "(551, 566)"
      ]
     },
     "execution_count": 15,
     "metadata": {},
     "output_type": "execute_result"
    }
   ],
   "source": [
    "# выделим наиболее популяпную пару, которая будет заменять малопопулярные курсы\n",
    "most_popular_course_id = list(sorted_pairs.keys())[0]\n",
    "most_popular_course_id"
   ]
  },
  {
   "cell_type": "code",
   "execution_count": 16,
   "metadata": {},
   "outputs": [
    {
     "data": {
      "text/html": [
       "<div>\n",
       "<style scoped>\n",
       "    .dataframe tbody tr th:only-of-type {\n",
       "        vertical-align: middle;\n",
       "    }\n",
       "\n",
       "    .dataframe tbody tr th {\n",
       "        vertical-align: top;\n",
       "    }\n",
       "\n",
       "    .dataframe thead th {\n",
       "        text-align: right;\n",
       "    }\n",
       "</style>\n",
       "<table border=\"1\" class=\"dataframe\">\n",
       "  <thead>\n",
       "    <tr style=\"text-align: right;\">\n",
       "      <th></th>\n",
       "      <th>First_recommendation</th>\n",
       "      <th>Second_recommendation</th>\n",
       "    </tr>\n",
       "  </thead>\n",
       "  <tbody>\n",
       "    <tr>\n",
       "      <th>490</th>\n",
       "      <td>566</td>\n",
       "      <td>551</td>\n",
       "    </tr>\n",
       "    <tr>\n",
       "      <th>357</th>\n",
       "      <td>571</td>\n",
       "      <td>1125</td>\n",
       "    </tr>\n",
       "    <tr>\n",
       "      <th>507</th>\n",
       "      <td>570</td>\n",
       "      <td>752</td>\n",
       "    </tr>\n",
       "    <tr>\n",
       "      <th>489</th>\n",
       "      <td>551</td>\n",
       "      <td>515</td>\n",
       "    </tr>\n",
       "    <tr>\n",
       "      <th>514</th>\n",
       "      <td>551</td>\n",
       "      <td>515</td>\n",
       "    </tr>\n",
       "    <tr>\n",
       "      <th>552</th>\n",
       "      <td>564</td>\n",
       "      <td>566</td>\n",
       "    </tr>\n",
       "    <tr>\n",
       "      <th>515</th>\n",
       "      <td>551</td>\n",
       "      <td>523</td>\n",
       "    </tr>\n",
       "    <tr>\n",
       "      <th>523</th>\n",
       "      <td>551</td>\n",
       "      <td>552</td>\n",
       "    </tr>\n",
       "    <tr>\n",
       "      <th>569</th>\n",
       "      <td>572</td>\n",
       "      <td>840</td>\n",
       "    </tr>\n",
       "    <tr>\n",
       "      <th>363</th>\n",
       "      <td>511</td>\n",
       "      <td>562</td>\n",
       "    </tr>\n",
       "  </tbody>\n",
       "</table>\n",
       "</div>"
      ],
      "text/plain": [
       "     First_recommendation  Second_recommendation\n",
       "490                   566                    551\n",
       "357                   571                   1125\n",
       "507                   570                    752\n",
       "489                   551                    515\n",
       "514                   551                    515\n",
       "552                   564                    566\n",
       "515                   551                    523\n",
       "523                   551                    552\n",
       "569                   572                    840\n",
       "363                   511                    562"
      ]
     },
     "execution_count": 16,
     "metadata": {},
     "output_type": "execute_result"
    }
   ],
   "source": [
    "# Построим таблицу рекомендаций\n",
    "df_recommend = pd.DataFrame(columns = ['First_recommendation', 'Second_recommendation'])\n",
    "\n",
    "# цикл по каждому уникальному курсу\n",
    "for i in list_courses_unique:\n",
    "    local_reccommend = recommendations(i)\n",
    "    \n",
    "    if len(local_reccommend) == 2: # если функция возвращает два кортежа\n",
    "        df_recommend.loc[i] = [local_reccommend[0][1], local_reccommend[1][1]]\n",
    "    elif len(local_reccommend) == 1:\n",
    "        df_recommend.loc[i] = [local_reccommend[0][1], most_popular_course_id[0]]\n",
    "    else:\n",
    "        df_recommend.loc[i] = [most_popular_course_id[0], most_popular_course_id[1]]\n",
    "\n",
    "df_recommend.head(10)"
   ]
  },
  {
   "cell_type": "markdown",
   "metadata": {},
   "source": [
    "И-так, мы получили рекоммендации для каждого курса.\n",
    "Так же на одном примере посмотрим, как заполнилась таблица в случае, если мало продаж.\n",
    "Наприме, для курса № 1147 функция возвращает только один кортеж (одну пару):"
   ]
  },
  {
   "cell_type": "code",
   "execution_count": 17,
   "metadata": {},
   "outputs": [
    {
     "data": {
      "text/plain": [
       "[(1147, 1187)]"
      ]
     },
     "execution_count": 17,
     "metadata": {},
     "output_type": "execute_result"
    }
   ],
   "source": [
    "recommendations(1147)"
   ]
  },
  {
   "cell_type": "markdown",
   "metadata": {},
   "source": [
    "Выведем значения таблицы для этого курса:"
   ]
  },
  {
   "cell_type": "code",
   "execution_count": 18,
   "metadata": {},
   "outputs": [
    {
     "data": {
      "text/plain": [
       "First_recommendation     1187\n",
       "Second_recommendation     551\n",
       "Name: 1147, dtype: int64"
      ]
     },
     "execution_count": 18,
     "metadata": {},
     "output_type": "execute_result"
    }
   ],
   "source": [
    "df_recommend.loc[1147].head()"
   ]
  },
  {
   "cell_type": "markdown",
   "metadata": {},
   "source": [
    "Мы видим, что первая рекомендация 1187 взята из вернувшейся пары, а вторая - это значение из самой популярной пары."
   ]
  }
 ],
 "metadata": {
  "interpreter": {
   "hash": "87b2c85ac73c1638e573392a7460a71c27c948bf2549c0ae1145a632a170f46a"
  },
  "kernelspec": {
   "display_name": "Python 3.10.2 64-bit",
   "language": "python",
   "name": "python3"
  },
  "language_info": {
   "codemirror_mode": {
    "name": "ipython",
    "version": 3
   },
   "file_extension": ".py",
   "mimetype": "text/x-python",
   "name": "python",
   "nbconvert_exporter": "python",
   "pygments_lexer": "ipython3",
   "version": "3.10.2"
  },
  "orig_nbformat": 4
 },
 "nbformat": 4,
 "nbformat_minor": 2
}
